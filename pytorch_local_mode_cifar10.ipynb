{
 "cells": [
  {
   "cell_type": "markdown",
   "metadata": {},
   "source": [
    "# PyTorch CIFAR-10 local training  \n",
    "\n",
    "## Prerequisites\n",
    "\n",
    "This notebook shows how to use the SageMaker Python SDK to run your code in a local container before deploying to SageMaker's managed training or hosting environments.  This can speed up iterative testing and debugging while using the same familiar Python SDK interface.  Just change your estimator's `instance_type` to `local` (or `local_gpu` if you're using an ml.p2 or ml.p3 notebook instance).\n",
    "\n",
    "In order to use this feature, you'll need to install docker-compose (and nvidia-docker if training with a GPU).\n",
    "\n",
    "**Note: you can only run a single local notebook at one time.**"
   ]
  },
  {
   "cell_type": "code",
   "execution_count": 1,
   "metadata": {},
   "outputs": [
    {
     "name": "stdout",
     "output_type": "stream",
     "text": [
      "The user has root access.\n",
      "nvidia-docker2 already installed. We are good to go!\n",
      "SageMaker instance route table setup is ok. We are good to go.\n",
      "SageMaker instance routing for Docker is ok. We are good to go!\n"
     ]
    }
   ],
   "source": [
    "!/bin/bash ./setup.sh"
   ]
  },
  {
   "cell_type": "markdown",
   "metadata": {},
   "source": [
    "## Overview\n",
    "\n",
    "The **SageMaker Python SDK** helps you deploy your models for training and hosting in optimized, productions ready containers in SageMaker. The SageMaker Python SDK is easy to use, modular, extensible and compatible with TensorFlow, MXNet, PyTorch. This tutorial focuses on how to create a convolutional neural network model to train the [CIFAR-10 dataset](https://www.cs.toronto.edu/~kriz/cifar.html) using **PyTorch in local mode**.\n",
    "\n",
    "## When should I extend a SageMaker container?\n",
    "\n",
    "You may not need to create a container to bring your own code to Amazon SageMaker. When you are using a framework such as [TensorFlow](https://github.com/aws/sagemaker-tensorflow-container), [MXNet](https://github.com/aws/sagemaker-mxnet-container), [PyTorch](https://github.com/aws/sagemaker-pytorch-container) or [Chainer](https://github.com/aws/sagemaker-chainer-container) that has direct support in SageMaker, you can simply supply the Python code that implements your algorithm using the SDK entry points for that framework.\n",
    "\n",
    "Even if there is direct SDK support for your environment or framework, you may want to add additional functionality or configure your container environment differently while utilizing our container to use on SageMaker.\n",
    "\n",
    "**Some of the reasons to extend a SageMaker deep learning framework container are:**\n",
    "1. Install additional dependencies. (E.g. I want to install a specific Python library, that the current SageMaker containers don't install.)\n",
    "2. Configure your environment. (E.g. I want to add an environment variable to my container.)\n",
    "\n",
    "**Although it is possible to extend any of our framework containers as a parent image, the example this notebook covers is currently only intended to work with our PyTorch (0.4.0+) and Chainer (4.1.0+) containers.**\n",
    "\n",
    "This walkthrough shows that it is quite straightforward to extend one of our containers to build your own custom container for PyTorch or Chainer.\n",
    "\n",
    "## Permissions\n",
    "\n",
    "Running this notebook requires permissions in addition to the normal `SageMakerFullAccess` permissions. This is because it creates new repositories in Amazon ECR. The easiest way to add these permissions is simply to add the managed policy `AmazonEC2ContainerRegistryFullAccess` to the role that you used to start your notebook instance. There's no need to restart your notebook instance when you do this, the new permissions will be available immediately.\n",
    "\n",
    "## The presentation\n",
    "\n",
    "This presentation is divided into two parts: _building_ the container and _using_ the container.\n",
    "\n"
   ]
  },
  {
   "cell_type": "markdown",
   "metadata": {},
   "source": [
    "## Part 1: Packaging and Uploading your Algorithm for use with Amazon SageMaker\n",
    "\n",
    "### An overview of Docker\n",
    "\n",
    "If you're familiar with Docker already, you can skip ahead to the next section.\n",
    "\n",
    "For many data scientists, Docker containers are a new technology. But they are not difficult and can significantly simplify the deployment of your software packages. \n",
    "\n",
    "Docker provides a simple way to package arbitrary code into an _image_ that is totally self-contained. Once you have an image, you can use Docker to run a _container_ based on that image. Running a container is just like running a program on the machine except that the container creates a fully self-contained environment for the program to run. Containers are isolated from each other and from the host environment, so the way your program is set up is the way it runs, no matter where you run it.\n",
    "\n",
    "Docker is more powerful than environment managers like conda or virtualenv because (a) it is completely language independent and (b) it comprises your whole operating environment, including startup commands, and environment variable.\n",
    "\n",
    "A Docker container is like a virtual machine, but it is much lighter weight. For example, a program running in a container can start in less than a second and many containers can run simultaneously on the same physical or virtual machine instance.\n",
    "\n",
    "Docker uses a simple file called a `Dockerfile` to specify how the image is assembled. An example is provided below. You can build your Docker images based on Docker images built by yourself or by others, which can simplify things quite a bit.\n",
    "\n",
    "Docker has become very popular in programming and devops communities due to its flexibility and its well-defined specification of how code can be run in its containers. It is the underpinning of many services built in the past few years, such as [Amazon ECS].\n",
    "\n",
    "Amazon SageMaker uses Docker to allow users to train and deploy arbitrary algorithms.\n",
    "\n",
    "In Amazon SageMaker, Docker containers are invoked in a one way for training and another, slightly different, way for hosting. The following sections outline how to build containers for the SageMaker environment.\n",
    "\n",
    "Some helpful links:\n",
    "\n",
    "* [Docker home page](http://www.docker.com)\n",
    "* [Getting started with Docker](https://docs.docker.com/get-started/)\n",
    "* [Dockerfile reference](https://docs.docker.com/engine/reference/builder/)\n",
    "* [`docker run` reference](https://docs.docker.com/engine/reference/run/)\n",
    "\n",
    "[Amazon ECS]: https://aws.amazon.com/ecs/\n",
    "\n",
    "### How Amazon SageMaker runs your Docker container\n",
    "\n",
    "Because you can run the same image in training or hosting, Amazon SageMaker runs your container with the argument `train` or `serve`. How your container processes this argument depends on the container. All SageMaker deep learning framework containers already cover this requirement and will trigger your defined training algorithm and inference code.\n",
    "\n",
    "* If you specify a program as an `ENTRYPOINT` in the Dockerfile, that program will be run at startup and its first argument will be `train` or `serve`. The program can then look at that argument and decide what to do. The original `ENTRYPOINT` specified within the SageMaker PyTorch is [here](https://github.com/aws/deep-learning-containers/blob/master/pytorch/training/docker/1.5.1/py3/Dockerfile.cpu#L123).\n",
    "\n",
    "#### Running your container during training\n",
    "\n",
    "Currently, our SageMaker PyTorch container utilizes [console_scripts](http://python-packaging.readthedocs.io/en/latest/command-line-scripts.html#the-console-scripts-entry-point) to make use of the `train` command issued at training time. The line that gets invoked during `train` is defined within the setup.py file inside [SageMaker Containers](https://github.com/aws/sagemaker-containers/blob/master/setup.py#L48), our common SageMaker deep learning container framework. When this command is run, it will invoke the [trainer class](https://github.com/aws/sagemaker-containers/blob/master/src/sagemaker_containers/cli/train.py) to run, which will finally invoke our [PyTorch container code](https://github.com/aws/sagemaker-pytorch-container/blob/master/src/sagemaker_pytorch_container/training.py) to run your Python file.\n",
    "\n",
    "A number of files are laid out for your use, under the `/opt/ml` directory:\n",
    "\n",
    "    /opt/ml\n",
    "    |-- input\n",
    "    |   |-- config\n",
    "    |   |   |-- hyperparameters.json\n",
    "    |   |   `-- resourceConfig.json\n",
    "    |   `-- data\n",
    "    |       `-- <channel_name>\n",
    "    |           `-- <input data>\n",
    "    |-- model\n",
    "    |   `-- <model files>\n",
    "    `-- output\n",
    "        `-- failure\n",
    "\n",
    "##### The input\n",
    "\n",
    "* `/opt/ml/input/config` contains information to control how your program runs. `hyperparameters.json` is a JSON-formatted dictionary of hyperparameter names to values. These values are always strings, so you may need to convert them. `resourceConfig.json` is a JSON-formatted file that describes the network layout used for distributed training.\n",
    "* `/opt/ml/input/data/<channel_name>/` (for File mode) contains the input data for that channel. The channels are created based on the call to CreateTrainingJob but it's generally important that channels match algorithm expectations. The files for each channel are copied from S3 to this directory, preserving the tree structure indicated by the S3 key structure. \n",
    "* `/opt/ml/input/data/<channel_name>_<epoch_number>` (for Pipe mode) is the pipe for a given epoch. Epochs start at zero and go up by one each time you read them. There is no limit to the number of epochs that you can run, but you must close each pipe before reading the next epoch.\n",
    "\n",
    "##### The output\n",
    "\n",
    "* `/opt/ml/model/` is the directory where you write the model that your algorithm generates. Your model can be in any format that you want. It can be a single file or a whole directory tree. SageMaker packages any files in this directory into a compressed tar archive file. This file is made available at the S3 location returned in the `DescribeTrainingJob` result.\n",
    "* `/opt/ml/output` is a directory where the algorithm can write a file `failure` that describes why the job failed. The contents of this file are returned in the `FailureReason` field of the `DescribeTrainingJob` result. For jobs that succeed, there is no reason to write this file as it is ignored.\n",
    "\n",
    "#### Running your container during hosting\n",
    "\n",
    "Hosting has a very different model than training because hosting is reponding to inference requests that come in via HTTP. Currently, the SageMaker PyTorch containers [uses](https://github.com/aws/sagemaker-pytorch-container/blob/master/src/sagemaker_pytorch_container/serving.py#L103) our [recommended Python serving stack](https://github.com/aws/sagemaker-containers/blob/master/src/sagemaker_containers/_server.py#L44) to provide robust and scalable serving of inference requests:\n",
    "\n",
    "![Request serving stack](stack.png)\n",
    "\n",
    "Amazon SageMaker uses two URLs in the container:\n",
    "\n",
    "* `/ping` receives `GET` requests from the infrastructure. Your program returns 200 if the container is up and accepting requests.\n",
    "* `/invocations` is the endpoint that receives client inference `POST` requests. The format of the request and the response is up to the algorithm. If the client supplied `ContentType` and `Accept` headers, these are passed in as well. \n",
    "\n",
    "The container has the model files in the same place that they were written to during training:\n",
    "\n",
    "    /opt/ml\n",
    "    `-- model\n",
    "        `-- <model files>\n"
   ]
  },
  {
   "cell_type": "markdown",
   "metadata": {},
   "source": [
    "### The parts of the sample container\n",
    "\n",
    "The `container` directory has all the components you need to extend the SageMaker PyTorch container to use as an sample algorithm:\n",
    "\n",
    "    .\n",
    "    |-- Dockerfile\n",
    "    |-- build_and_push.sh\n",
    "    `-- cifar10\n",
    "        `-- cifar10.py\n",
    "\n",
    "Let's discuss each of these in turn:\n",
    "\n",
    "* __`Dockerfile`__ describes how to build your Docker container image. More details are provided below.\n",
    "* __`build_and_push.sh`__ is a script that uses the Dockerfile to build your container images and then pushes it to ECR. We invoke the commands directly later in this notebook, but you can just copy and run the script for your own algorithms.\n",
    "* __`cifar10`__ is the directory which contains our user code to be invoked.\n",
    "\n",
    "In this simple application, we install only one file in the container. You may only need that many, but if you have many supporting routines, you may wish to install more.\n",
    "\n",
    "The files that we put in the container are:\n",
    "\n",
    "* __`cifar10.py`__ is the program that implements our training algorithm and handles loading our model for inferences."
   ]
  },
  {
   "cell_type": "markdown",
   "metadata": {},
   "source": [
    "### The Dockerfile\n",
    "\n",
    "The Dockerfile describes the image that we want to build. You can think of it as describing the complete operating system installation of the system that you want to run. A Docker container running is quite a bit lighter than a full operating system, however, because it takes advantage of Linux on the host machine for the basic operations. \n",
    "\n",
    "We start from the SageMaker PyTorch image as the base. The base image is an ECR image, so it will have the following pattern.\n",
    "* {account}.dkr.ecr.{region}.amazonaws.com/sagemaker-{framework}:{framework_version}-{processor_type}-{python_version}\n",
    "\n",
    "Here is an explanation of each field.\n",
    "1. account - AWS account ID the ECR image belongs to. Our public deep learning framework images are all under the 520713654638 account.\n",
    "2. region - The region the ECR image belongs to. [Available regions](https://aws.amazon.com/about-aws/global-infrastructure/regional-product-services/).\n",
    "3. framework - The deep learning framework.\n",
    "4. framework_version - The version of the deep learning framework.\n",
    "5. processor_type - CPU or GPU.\n",
    "6. python_version - The supported version of Python.\n",
    "\n",
    "So the SageMaker PyTorch inference ECR image would be:\n",
    "763104351884.dkr.ecr.$REGION.amazonaws.com/pytorch-inference:1.11.0-gpu-py38-cu113-ubuntu20.04-sagemaker\n",
    "    \n",
    "Information on supported frameworks and versions can be found in this [README](https://github.com/aws/sagemaker-python-sdk).\n",
    "\n",
    "Next, we add the code that implements our specific algorithm to the container and set up the right environment for it to run under.\n",
    "\n",
    "\n",
    "Finally, we need to specify two environment variables.\n",
    "1. SAGEMAKER_SUBMIT_DIRECTORY - the directory within the container containing our Python script for training and inference.\n",
    "2. SAGEMAKER_PROGRAM - the Python script that should be invoked for training and inference.\n",
    "\n",
    "Let's look at the Dockerfile for this example."
   ]
  },
  {
   "cell_type": "markdown",
   "metadata": {},
   "source": [
    "### Building and registering the container\n",
    "\n",
    "The following shell code shows how to build the container image using `docker build` and push the container image to ECR using `docker push`. This code is also available as the shell script `container/build-and-push.sh`, which you can run as `build-and-push.sh pytorch-extending-our-containers-cifar10-example` to build the image `pytorch-extending-our-containers-cifar10-example`. \n",
    "\n",
    "This code looks for an ECR repository in the account you're using and the current default region (if you're using a SageMaker notebook instance, this is the region where the notebook instance was created). If the repository doesn't exist, the script will create it. In addition, since we are using the SageMaker PyTorch image as the base, we will need to retrieve ECR credentials to pull this public image."
   ]
  },
  {
   "cell_type": "code",
   "execution_count": null,
   "metadata": {},
   "outputs": [],
   "source": [
    "%%sh\n",
    "\n",
    "# The name of our algorithm\n",
    "algorithm_name=pytorch-extending-our-containers-example\n",
    "\n",
    "cd container\n",
    "\n",
    "account=$(aws sts get-caller-identity --query Account --output text)\n",
    "\n",
    "# Get the region defined in the current configuration (default to us-west-2 if none defined)\n",
    "region=$(aws configure get region)\n",
    "region=${region:-us-west-2}\n",
    "\n",
    "fullname=\"${account}.dkr.ecr.${region}.amazonaws.com/${algorithm_name}:latest\"\n",
    "\n",
    "# If the repository doesn't exist in ECR, create it.\n",
    "\n",
    "aws ecr describe-repositories --repository-names \"${algorithm_name}\" > /dev/null 2>&1\n",
    "\n",
    "if [ $? -ne 0 ]\n",
    "then\n",
    "    aws ecr create-repository --repository-name \"${algorithm_name}\" > /dev/null\n",
    "fi\n",
    "\n",
    "# Get the login command from ECR and execute it directly\n",
    "$(aws ecr get-login --region ${region} --no-include-email)\n",
    "\n",
    "# Get the login command from ECR in order to pull down the SageMaker PyTorch image\n",
    "$(aws ecr get-login --registry-ids 763104351884 --region ${region} --no-include-email)\n",
    "\n",
    "# Build the docker image locally with the image name and then push it to ECR\n",
    "# with the full name.\n",
    "\n",
    "docker build  -t ${algorithm_name} . --build-arg REGION=${region}\n",
    "docker tag ${algorithm_name} ${fullname}\n",
    "\n",
    "docker push ${fullname}"
   ]
  },
  {
   "cell_type": "markdown",
   "metadata": {},
   "source": [
    "## Part 2: Training your Algorithm in Amazon SageMaker with prebuilt pytorch container\n",
    "We firstly train a pytorch model based on the prebuilt container image"
   ]
  },
  {
   "cell_type": "markdown",
   "metadata": {},
   "source": [
    "### Set up the environment\n",
    "\n",
    "This notebook was created and tested on a single ml.p2.xlarge notebook instance.\n",
    "\n",
    "Let's start by specifying:\n",
    "\n",
    "- The S3 bucket and prefix that you want to use for training and model data. This should be within the same region as the Notebook Instance, training, and hosting.\n",
    "- The IAM role arn used to give training and hosting access to your data. See the documentation for how to create these. Note, if more than one role is required for notebook instances, training, and/or hosting, please replace the sagemaker.get_execution_role() with appropriate full IAM role arn string(s)."
   ]
  },
  {
   "cell_type": "code",
   "execution_count": 2,
   "metadata": {},
   "outputs": [],
   "source": [
    "import sagemaker\n",
    "\n",
    "sagemaker_session = sagemaker.Session()\n",
    "\n",
    "bucket = sagemaker_session.default_bucket()\n",
    "prefix = \"sagemaker/DEMO-pytorch-cnn-cifar10\"\n",
    "\n",
    "role = sagemaker.get_execution_role()"
   ]
  },
  {
   "cell_type": "code",
   "execution_count": 3,
   "metadata": {},
   "outputs": [
    {
     "name": "stdout",
     "output_type": "stream",
     "text": [
      "Sat Jun 18 09:47:56 2022       \n",
      "+-----------------------------------------------------------------------------+\n",
      "| NVIDIA-SMI 510.47.03    Driver Version: 510.47.03    CUDA Version: 11.6     |\n",
      "|-------------------------------+----------------------+----------------------+\n",
      "| GPU  Name        Persistence-M| Bus-Id        Disp.A | Volatile Uncorr. ECC |\n",
      "| Fan  Temp  Perf  Pwr:Usage/Cap|         Memory-Usage | GPU-Util  Compute M. |\n",
      "|                               |                      |               MIG M. |\n",
      "|===============================+======================+======================|\n",
      "|   0  Tesla T4            On   | 00000000:00:1E.0 Off |                    0 |\n",
      "| N/A   34C    P8    15W /  70W |      0MiB / 15360MiB |      0%      Default |\n",
      "|                               |                      |                  N/A |\n",
      "+-------------------------------+----------------------+----------------------+\n",
      "                                                                               \n",
      "+-----------------------------------------------------------------------------+\n",
      "| Processes:                                                                  |\n",
      "|  GPU   GI   CI        PID   Type   Process name                  GPU Memory |\n",
      "|        ID   ID                                                   Usage      |\n",
      "|=============================================================================|\n",
      "|  No running processes found                                                 |\n",
      "+-----------------------------------------------------------------------------+\n",
      "Instance type = local_gpu\n"
     ]
    }
   ],
   "source": [
    "import os\n",
    "import subprocess\n",
    "\n",
    "instance_type = \"local\"\n",
    "\n",
    "try:\n",
    "    if subprocess.call(\"nvidia-smi\") == 0:\n",
    "        ## Set type to GPU if one is present\n",
    "        instance_type = \"local_gpu\"\n",
    "except:\n",
    "    pass\n",
    "\n",
    "print(\"Instance type = \" + instance_type)"
   ]
  },
  {
   "cell_type": "markdown",
   "metadata": {},
   "source": [
    "### Download the CIFAR-10 dataset"
   ]
  },
  {
   "cell_type": "code",
   "execution_count": 4,
   "metadata": {},
   "outputs": [
    {
     "name": "stderr",
     "output_type": "stream",
     "text": [
      "Matplotlib is building the font cache; this may take a moment.\n"
     ]
    },
    {
     "name": "stdout",
     "output_type": "stream",
     "text": [
      "Downloading https://www.cs.toronto.edu/~kriz/cifar-10-python.tar.gz to ./data/cifar-10-python.tar.gz\n"
     ]
    },
    {
     "data": {
      "application/vnd.jupyter.widget-view+json": {
       "model_id": "a381af4a748742e293a84ad12d243f95",
       "version_major": 2,
       "version_minor": 0
      },
      "text/plain": [
       "  0%|          | 0/170498071 [00:00<?, ?it/s]"
      ]
     },
     "metadata": {},
     "output_type": "display_data"
    },
    {
     "name": "stdout",
     "output_type": "stream",
     "text": [
      "Extracting ./data/cifar-10-python.tar.gz to ./data\n",
      "Files already downloaded and verified\n"
     ]
    }
   ],
   "source": [
    "from utils_cifar import get_train_data_loader, get_test_data_loader, imshow, classes\n",
    "\n",
    "trainloader = get_train_data_loader()\n",
    "testloader = get_test_data_loader()"
   ]
  },
  {
   "cell_type": "markdown",
   "metadata": {},
   "source": [
    "### Data Preview"
   ]
  },
  {
   "cell_type": "code",
   "execution_count": 5,
   "metadata": {},
   "outputs": [
    {
     "name": "stdout",
     "output_type": "stream",
     "text": [
      "     bird      frog       car       dog\n"
     ]
    },
    {
     "data": {
      "image/png": "[encoded data removed]",
      "text/plain": [
       "<Figure size 432x288 with 1 Axes>"
      ]
     },
     "metadata": {
      "needs_background": "light"
     },
     "output_type": "display_data"
    }
   ],
   "source": [
    "import numpy as np\n",
    "import torchvision, torch\n",
    "\n",
    "# get some random training images\n",
    "dataiter = iter(trainloader)\n",
    "images, labels = dataiter.next()\n",
    "\n",
    "# show images\n",
    "imshow(torchvision.utils.make_grid(images))\n",
    "\n",
    "# print labels\n",
    "print(\" \".join(\"%9s\" % classes[labels[j]] for j in range(4)))"
   ]
  },
  {
   "cell_type": "markdown",
   "metadata": {},
   "source": [
    "### Upload the data\n",
    "We use the ```sagemaker.Session.upload_data``` function to upload our datasets to an S3 location. The return value inputs identifies the location -- we will use this later when we start the training job."
   ]
  },
  {
   "cell_type": "code",
   "execution_count": 6,
   "metadata": {},
   "outputs": [],
   "source": [
    "inputs = sagemaker_session.upload_data(path=\"data\", bucket=bucket, key_prefix=\"data/cifar10\")"
   ]
  },
  {
   "cell_type": "markdown",
   "metadata": {},
   "source": [
    "# Construct a script for training \n",
    "Here is the full code for the network model:"
   ]
  },
  {
   "cell_type": "code",
   "execution_count": 7,
   "metadata": {
    "scrolled": true
   },
   "outputs": [
    {
     "name": "stdout",
     "output_type": "stream",
     "text": [
      "\u001b[34mimport\u001b[39;49;00m \u001b[04m\u001b[36margparse\u001b[39;49;00m\n",
      "\u001b[34mimport\u001b[39;49;00m \u001b[04m\u001b[36mlogging\u001b[39;49;00m\n",
      "\u001b[34mimport\u001b[39;49;00m \u001b[04m\u001b[36mos\u001b[39;49;00m\n",
      "\n",
      "\u001b[34mimport\u001b[39;49;00m \u001b[04m\u001b[36mtorch\u001b[39;49;00m\n",
      "\u001b[34mimport\u001b[39;49;00m \u001b[04m\u001b[36mtorch\u001b[39;49;00m\u001b[04m\u001b[36m.\u001b[39;49;00m\u001b[04m\u001b[36mdistributed\u001b[39;49;00m \u001b[34mas\u001b[39;49;00m \u001b[04m\u001b[36mdist\u001b[39;49;00m\n",
      "\u001b[34mimport\u001b[39;49;00m \u001b[04m\u001b[36mtorch\u001b[39;49;00m\u001b[04m\u001b[36m.\u001b[39;49;00m\u001b[04m\u001b[36mnn\u001b[39;49;00m \u001b[34mas\u001b[39;49;00m \u001b[04m\u001b[36mnn\u001b[39;49;00m\n",
      "\u001b[34mimport\u001b[39;49;00m \u001b[04m\u001b[36mtorch\u001b[39;49;00m\u001b[04m\u001b[36m.\u001b[39;49;00m\u001b[04m\u001b[36mnn\u001b[39;49;00m\u001b[04m\u001b[36m.\u001b[39;49;00m\u001b[04m\u001b[36mfunctional\u001b[39;49;00m \u001b[34mas\u001b[39;49;00m \u001b[04m\u001b[36mF\u001b[39;49;00m\n",
      "\u001b[34mimport\u001b[39;49;00m \u001b[04m\u001b[36mtorch\u001b[39;49;00m\u001b[04m\u001b[36m.\u001b[39;49;00m\u001b[04m\u001b[36mnn\u001b[39;49;00m\u001b[04m\u001b[36m.\u001b[39;49;00m\u001b[04m\u001b[36mparallel\u001b[39;49;00m\n",
      "\u001b[34mimport\u001b[39;49;00m \u001b[04m\u001b[36mtorch\u001b[39;49;00m\u001b[04m\u001b[36m.\u001b[39;49;00m\u001b[04m\u001b[36moptim\u001b[39;49;00m\n",
      "\u001b[34mimport\u001b[39;49;00m \u001b[04m\u001b[36mtorch\u001b[39;49;00m\u001b[04m\u001b[36m.\u001b[39;49;00m\u001b[04m\u001b[36mutils\u001b[39;49;00m\u001b[04m\u001b[36m.\u001b[39;49;00m\u001b[04m\u001b[36mdata\u001b[39;49;00m\n",
      "\u001b[34mimport\u001b[39;49;00m \u001b[04m\u001b[36mtorch\u001b[39;49;00m\u001b[04m\u001b[36m.\u001b[39;49;00m\u001b[04m\u001b[36mutils\u001b[39;49;00m\u001b[04m\u001b[36m.\u001b[39;49;00m\u001b[04m\u001b[36mdata\u001b[39;49;00m\u001b[04m\u001b[36m.\u001b[39;49;00m\u001b[04m\u001b[36mdistributed\u001b[39;49;00m\n",
      "\u001b[34mimport\u001b[39;49;00m \u001b[04m\u001b[36mtorchvision\u001b[39;49;00m\n",
      "\u001b[34mimport\u001b[39;49;00m \u001b[04m\u001b[36mtorchvision\u001b[39;49;00m\u001b[04m\u001b[36m.\u001b[39;49;00m\u001b[04m\u001b[36mmodels\u001b[39;49;00m\n",
      "\u001b[34mimport\u001b[39;49;00m \u001b[04m\u001b[36mtorchvision\u001b[39;49;00m\u001b[04m\u001b[36m.\u001b[39;49;00m\u001b[04m\u001b[36mtransforms\u001b[39;49;00m \u001b[34mas\u001b[39;49;00m \u001b[04m\u001b[36mtransforms\u001b[39;49;00m\n",
      "\n",
      "\u001b[34mtry\u001b[39;49;00m:\n",
      "    \u001b[34mfrom\u001b[39;49;00m \u001b[04m\u001b[36msagemaker_inference\u001b[39;49;00m \u001b[34mimport\u001b[39;49;00m environment\n",
      "\u001b[34mexcept\u001b[39;49;00m:\n",
      "    \u001b[34mfrom\u001b[39;49;00m \u001b[04m\u001b[36msagemaker_training\u001b[39;49;00m \u001b[34mimport\u001b[39;49;00m environment\n",
      "\n",
      "logger = logging.getLogger(\u001b[31m__name__\u001b[39;49;00m)\n",
      "logger.setLevel(logging.DEBUG)\n",
      "\n",
      "classes = (\u001b[33m\"\u001b[39;49;00m\u001b[33mplane\u001b[39;49;00m\u001b[33m\"\u001b[39;49;00m, \u001b[33m\"\u001b[39;49;00m\u001b[33mcar\u001b[39;49;00m\u001b[33m\"\u001b[39;49;00m, \u001b[33m\"\u001b[39;49;00m\u001b[33mbird\u001b[39;49;00m\u001b[33m\"\u001b[39;49;00m, \u001b[33m\"\u001b[39;49;00m\u001b[33mcat\u001b[39;49;00m\u001b[33m\"\u001b[39;49;00m, \u001b[33m\"\u001b[39;49;00m\u001b[33mdeer\u001b[39;49;00m\u001b[33m\"\u001b[39;49;00m, \u001b[33m\"\u001b[39;49;00m\u001b[33mdog\u001b[39;49;00m\u001b[33m\"\u001b[39;49;00m, \u001b[33m\"\u001b[39;49;00m\u001b[33mfrog\u001b[39;49;00m\u001b[33m\"\u001b[39;49;00m, \u001b[33m\"\u001b[39;49;00m\u001b[33mhorse\u001b[39;49;00m\u001b[33m\"\u001b[39;49;00m, \u001b[33m\"\u001b[39;49;00m\u001b[33mship\u001b[39;49;00m\u001b[33m\"\u001b[39;49;00m, \u001b[33m\"\u001b[39;49;00m\u001b[33mtruck\u001b[39;49;00m\u001b[33m\"\u001b[39;49;00m)\n",
      "\n",
      "\n",
      "\u001b[37m# https://github.com/pytorch/tutorials/blob/master/beginner_source/blitz/cifar10_tutorial.py#L118\u001b[39;49;00m\n",
      "\u001b[34mclass\u001b[39;49;00m \u001b[04m\u001b[32mNet\u001b[39;49;00m(nn.Module):\n",
      "    \u001b[34mdef\u001b[39;49;00m \u001b[32m__init__\u001b[39;49;00m(\u001b[36mself\u001b[39;49;00m):\n",
      "        \u001b[36msuper\u001b[39;49;00m(Net, \u001b[36mself\u001b[39;49;00m).\u001b[32m__init__\u001b[39;49;00m()\n",
      "        \u001b[36mself\u001b[39;49;00m.conv1 = nn.Conv2d(\u001b[34m3\u001b[39;49;00m, \u001b[34m6\u001b[39;49;00m, \u001b[34m5\u001b[39;49;00m)\n",
      "        \u001b[36mself\u001b[39;49;00m.pool = nn.MaxPool2d(\u001b[34m2\u001b[39;49;00m, \u001b[34m2\u001b[39;49;00m)\n",
      "        \u001b[36mself\u001b[39;49;00m.conv2 = nn.Conv2d(\u001b[34m6\u001b[39;49;00m, \u001b[34m16\u001b[39;49;00m, \u001b[34m5\u001b[39;49;00m)\n",
      "        \u001b[36mself\u001b[39;49;00m.fc1 = nn.Linear(\u001b[34m16\u001b[39;49;00m * \u001b[34m5\u001b[39;49;00m * \u001b[34m5\u001b[39;49;00m, \u001b[34m120\u001b[39;49;00m)\n",
      "        \u001b[36mself\u001b[39;49;00m.fc2 = nn.Linear(\u001b[34m120\u001b[39;49;00m, \u001b[34m84\u001b[39;49;00m)\n",
      "        \u001b[36mself\u001b[39;49;00m.fc3 = nn.Linear(\u001b[34m84\u001b[39;49;00m, \u001b[34m10\u001b[39;49;00m)\n",
      "\n",
      "    \u001b[34mdef\u001b[39;49;00m \u001b[32mforward\u001b[39;49;00m(\u001b[36mself\u001b[39;49;00m, x):\n",
      "        x = \u001b[36mself\u001b[39;49;00m.pool(F.relu(\u001b[36mself\u001b[39;49;00m.conv1(x)))\n",
      "        x = \u001b[36mself\u001b[39;49;00m.pool(F.relu(\u001b[36mself\u001b[39;49;00m.conv2(x)))\n",
      "        x = x.view(-\u001b[34m1\u001b[39;49;00m, \u001b[34m16\u001b[39;49;00m * \u001b[34m5\u001b[39;49;00m * \u001b[34m5\u001b[39;49;00m)\n",
      "        x = F.relu(\u001b[36mself\u001b[39;49;00m.fc1(x))\n",
      "        x = F.relu(\u001b[36mself\u001b[39;49;00m.fc2(x))\n",
      "        x = \u001b[36mself\u001b[39;49;00m.fc3(x)\n",
      "        \u001b[34mreturn\u001b[39;49;00m x\n",
      "\n",
      "\n",
      "\u001b[34mdef\u001b[39;49;00m \u001b[32m_train\u001b[39;49;00m(args):\n",
      "    is_distributed = \u001b[36mlen\u001b[39;49;00m(args.hosts) > \u001b[34m1\u001b[39;49;00m \u001b[35mand\u001b[39;49;00m args.dist_backend \u001b[35mis\u001b[39;49;00m \u001b[35mnot\u001b[39;49;00m \u001b[34mNone\u001b[39;49;00m\n",
      "    logger.debug(\u001b[33m\"\u001b[39;49;00m\u001b[33mDistributed training - \u001b[39;49;00m\u001b[33m{}\u001b[39;49;00m\u001b[33m\"\u001b[39;49;00m.format(is_distributed))\n",
      "\n",
      "    \u001b[34mif\u001b[39;49;00m is_distributed:\n",
      "        \u001b[37m# Initialize the distributed environment.\u001b[39;49;00m\n",
      "        world_size = \u001b[36mlen\u001b[39;49;00m(args.hosts)\n",
      "        os.environ[\u001b[33m\"\u001b[39;49;00m\u001b[33mWORLD_SIZE\u001b[39;49;00m\u001b[33m\"\u001b[39;49;00m] = \u001b[36mstr\u001b[39;49;00m(world_size)\n",
      "        host_rank = args.hosts.index(args.current_host)\n",
      "        os.environ[\u001b[33m\"\u001b[39;49;00m\u001b[33mRANK\u001b[39;49;00m\u001b[33m\"\u001b[39;49;00m] = \u001b[36mstr\u001b[39;49;00m(host_rank)\n",
      "        dist.init_process_group(backend=args.dist_backend, rank=host_rank, world_size=world_size)\n",
      "        logger.info(\n",
      "            \u001b[33m\"\u001b[39;49;00m\u001b[33mInitialized the distributed environment: \u001b[39;49;00m\u001b[33m'\u001b[39;49;00m\u001b[33m{}\u001b[39;49;00m\u001b[33m'\u001b[39;49;00m\u001b[33m backend on \u001b[39;49;00m\u001b[33m{}\u001b[39;49;00m\u001b[33m nodes. \u001b[39;49;00m\u001b[33m\"\u001b[39;49;00m.format(\n",
      "                args.dist_backend, dist.get_world_size()\n",
      "            )\n",
      "            + \u001b[33m\"\u001b[39;49;00m\u001b[33mCurrent host rank is \u001b[39;49;00m\u001b[33m{}\u001b[39;49;00m\u001b[33m. Using cuda: \u001b[39;49;00m\u001b[33m{}\u001b[39;49;00m\u001b[33m. Number of gpus: \u001b[39;49;00m\u001b[33m{}\u001b[39;49;00m\u001b[33m\"\u001b[39;49;00m.format(\n",
      "                dist.get_rank(), torch.cuda.is_available(), args.num_gpus\n",
      "            )\n",
      "        )\n",
      "\n",
      "    device = \u001b[33m\"\u001b[39;49;00m\u001b[33mcuda\u001b[39;49;00m\u001b[33m\"\u001b[39;49;00m \u001b[34mif\u001b[39;49;00m torch.cuda.is_available() \u001b[34melse\u001b[39;49;00m \u001b[33m\"\u001b[39;49;00m\u001b[33mcpu\u001b[39;49;00m\u001b[33m\"\u001b[39;49;00m\n",
      "    logger.info(\u001b[33m\"\u001b[39;49;00m\u001b[33mDevice Type: \u001b[39;49;00m\u001b[33m{}\u001b[39;49;00m\u001b[33m\"\u001b[39;49;00m.format(device))\n",
      "\n",
      "    logger.info(\u001b[33m\"\u001b[39;49;00m\u001b[33mLoading Cifar10 dataset\u001b[39;49;00m\u001b[33m\"\u001b[39;49;00m)\n",
      "    transform = transforms.Compose(\n",
      "        [transforms.ToTensor(), transforms.Normalize((\u001b[34m0.5\u001b[39;49;00m, \u001b[34m0.5\u001b[39;49;00m, \u001b[34m0.5\u001b[39;49;00m), (\u001b[34m0.5\u001b[39;49;00m, \u001b[34m0.5\u001b[39;49;00m, \u001b[34m0.5\u001b[39;49;00m))]\n",
      "    )\n",
      "\n",
      "    trainset = torchvision.datasets.CIFAR10(\n",
      "        root=args.data_dir, train=\u001b[34mTrue\u001b[39;49;00m, download=\u001b[34mFalse\u001b[39;49;00m, transform=transform\n",
      "    )\n",
      "    train_loader = torch.utils.data.DataLoader(\n",
      "        trainset, batch_size=args.batch_size, shuffle=\u001b[34mTrue\u001b[39;49;00m, num_workers=args.workers\n",
      "    )\n",
      "\n",
      "    testset = torchvision.datasets.CIFAR10(\n",
      "        root=args.data_dir, train=\u001b[34mFalse\u001b[39;49;00m, download=\u001b[34mFalse\u001b[39;49;00m, transform=transform\n",
      "    )\n",
      "    test_loader = torch.utils.data.DataLoader(\n",
      "        testset, batch_size=args.batch_size, shuffle=\u001b[34mFalse\u001b[39;49;00m, num_workers=args.workers\n",
      "    )\n",
      "\n",
      "    logger.info(\u001b[33m\"\u001b[39;49;00m\u001b[33mModel loaded\u001b[39;49;00m\u001b[33m\"\u001b[39;49;00m)\n",
      "    model = Net()\n",
      "\n",
      "    \u001b[34mif\u001b[39;49;00m torch.cuda.device_count() > \u001b[34m1\u001b[39;49;00m:\n",
      "        logger.info(\u001b[33m\"\u001b[39;49;00m\u001b[33mGpu count: \u001b[39;49;00m\u001b[33m{}\u001b[39;49;00m\u001b[33m\"\u001b[39;49;00m.format(torch.cuda.device_count()))\n",
      "        model = nn.DataParallel(model)\n",
      "\n",
      "    model = model.to(device)\n",
      "\n",
      "    criterion = nn.CrossEntropyLoss().to(device)\n",
      "    optimizer = torch.optim.SGD(model.parameters(), lr=args.lr, momentum=args.momentum)\n",
      "\n",
      "    \u001b[34mfor\u001b[39;49;00m epoch \u001b[35min\u001b[39;49;00m \u001b[36mrange\u001b[39;49;00m(\u001b[34m0\u001b[39;49;00m, args.epochs):\n",
      "        running_loss = \u001b[34m0.0\u001b[39;49;00m\n",
      "        \u001b[34mfor\u001b[39;49;00m i, data \u001b[35min\u001b[39;49;00m \u001b[36menumerate\u001b[39;49;00m(train_loader):\n",
      "            \u001b[37m# get the inputs\u001b[39;49;00m\n",
      "            inputs, labels = data\n",
      "            inputs, labels = inputs.to(device), labels.to(device)\n",
      "\n",
      "            \u001b[37m# zero the parameter gradients\u001b[39;49;00m\n",
      "            optimizer.zero_grad()\n",
      "\n",
      "            \u001b[37m# forward + backward + optimize\u001b[39;49;00m\n",
      "            outputs = model(inputs)\n",
      "            loss = criterion(outputs, labels)\n",
      "            loss.backward()\n",
      "            optimizer.step()\n",
      "\n",
      "            \u001b[37m# print statistics\u001b[39;49;00m\n",
      "            running_loss += loss.item()\n",
      "            \u001b[34mif\u001b[39;49;00m i % \u001b[34m2000\u001b[39;49;00m == \u001b[34m1999\u001b[39;49;00m:  \u001b[37m# print every 2000 mini-batches\u001b[39;49;00m\n",
      "                \u001b[36mprint\u001b[39;49;00m(\u001b[33m\"\u001b[39;49;00m\u001b[33m[\u001b[39;49;00m\u001b[33m%d\u001b[39;49;00m\u001b[33m, \u001b[39;49;00m\u001b[33m%5d\u001b[39;49;00m\u001b[33m] loss: \u001b[39;49;00m\u001b[33m%.3f\u001b[39;49;00m\u001b[33m\"\u001b[39;49;00m % (epoch + \u001b[34m1\u001b[39;49;00m, i + \u001b[34m1\u001b[39;49;00m, running_loss / \u001b[34m2000\u001b[39;49;00m))\n",
      "                running_loss = \u001b[34m0.0\u001b[39;49;00m\n",
      "    \u001b[36mprint\u001b[39;49;00m(\u001b[33m\"\u001b[39;49;00m\u001b[33mFinished Training\u001b[39;49;00m\u001b[33m\"\u001b[39;49;00m)\n",
      "    \u001b[34mreturn\u001b[39;49;00m _save_model(model, args.model_dir)\n",
      "\n",
      "\n",
      "\u001b[34mdef\u001b[39;49;00m \u001b[32m_save_model\u001b[39;49;00m(model, model_dir):\n",
      "    logger.info(\u001b[33m\"\u001b[39;49;00m\u001b[33mSaving the model.\u001b[39;49;00m\u001b[33m\"\u001b[39;49;00m)\n",
      "    path = os.path.join(model_dir, \u001b[33m\"\u001b[39;49;00m\u001b[33mmodel.pth\u001b[39;49;00m\u001b[33m\"\u001b[39;49;00m)\n",
      "    \u001b[37m# recommended way from http://pytorch.org/docs/master/notes/serialization.html\u001b[39;49;00m\n",
      "    torch.save(model.cpu().state_dict(), path)\n",
      "\n",
      "\n",
      "\u001b[34mdef\u001b[39;49;00m \u001b[32mmodel_fn\u001b[39;49;00m(model_dir):\n",
      "    logger.info(\u001b[33m\"\u001b[39;49;00m\u001b[33mmodel_fn\u001b[39;49;00m\u001b[33m\"\u001b[39;49;00m)\n",
      "    device = \u001b[33m\"\u001b[39;49;00m\u001b[33mcuda\u001b[39;49;00m\u001b[33m\"\u001b[39;49;00m \u001b[34mif\u001b[39;49;00m torch.cuda.is_available() \u001b[34melse\u001b[39;49;00m \u001b[33m\"\u001b[39;49;00m\u001b[33mcpu\u001b[39;49;00m\u001b[33m\"\u001b[39;49;00m\n",
      "    model = Net()\n",
      "    \u001b[34mif\u001b[39;49;00m torch.cuda.device_count() > \u001b[34m1\u001b[39;49;00m:\n",
      "        logger.info(\u001b[33m\"\u001b[39;49;00m\u001b[33mGpu count: \u001b[39;49;00m\u001b[33m{}\u001b[39;49;00m\u001b[33m\"\u001b[39;49;00m.format(torch.cuda.device_count()))\n",
      "        model = nn.DataParallel(model)\n",
      "\n",
      "    \u001b[34mwith\u001b[39;49;00m \u001b[36mopen\u001b[39;49;00m(os.path.join(model_dir, \u001b[33m\"\u001b[39;49;00m\u001b[33mmodel.pth\u001b[39;49;00m\u001b[33m\"\u001b[39;49;00m), \u001b[33m\"\u001b[39;49;00m\u001b[33mrb\u001b[39;49;00m\u001b[33m\"\u001b[39;49;00m) \u001b[34mas\u001b[39;49;00m f:\n",
      "        model.load_state_dict(torch.load(f))\n",
      "    \u001b[34mreturn\u001b[39;49;00m model.to(device)\n",
      "\n",
      "\n",
      "\u001b[34mif\u001b[39;49;00m \u001b[31m__name__\u001b[39;49;00m == \u001b[33m\"\u001b[39;49;00m\u001b[33m__main__\u001b[39;49;00m\u001b[33m\"\u001b[39;49;00m:\n",
      "    parser = argparse.ArgumentParser()\n",
      "\n",
      "    parser.add_argument(\n",
      "        \u001b[33m\"\u001b[39;49;00m\u001b[33m--workers\u001b[39;49;00m\u001b[33m\"\u001b[39;49;00m,\n",
      "        \u001b[36mtype\u001b[39;49;00m=\u001b[36mint\u001b[39;49;00m,\n",
      "        default=\u001b[34m2\u001b[39;49;00m,\n",
      "        metavar=\u001b[33m\"\u001b[39;49;00m\u001b[33mW\u001b[39;49;00m\u001b[33m\"\u001b[39;49;00m,\n",
      "        help=\u001b[33m\"\u001b[39;49;00m\u001b[33mnumber of data loading workers (default: 2)\u001b[39;49;00m\u001b[33m\"\u001b[39;49;00m,\n",
      "    )\n",
      "    parser.add_argument(\n",
      "        \u001b[33m\"\u001b[39;49;00m\u001b[33m--epochs\u001b[39;49;00m\u001b[33m\"\u001b[39;49;00m,\n",
      "        \u001b[36mtype\u001b[39;49;00m=\u001b[36mint\u001b[39;49;00m,\n",
      "        default=\u001b[34m2\u001b[39;49;00m,\n",
      "        metavar=\u001b[33m\"\u001b[39;49;00m\u001b[33mE\u001b[39;49;00m\u001b[33m\"\u001b[39;49;00m,\n",
      "        help=\u001b[33m\"\u001b[39;49;00m\u001b[33mnumber of total epochs to run (default: 2)\u001b[39;49;00m\u001b[33m\"\u001b[39;49;00m,\n",
      "    )\n",
      "    parser.add_argument(\n",
      "        \u001b[33m\"\u001b[39;49;00m\u001b[33m--batch_size\u001b[39;49;00m\u001b[33m\"\u001b[39;49;00m, \u001b[36mtype\u001b[39;49;00m=\u001b[36mint\u001b[39;49;00m, default=\u001b[34m4\u001b[39;49;00m, metavar=\u001b[33m\"\u001b[39;49;00m\u001b[33mBS\u001b[39;49;00m\u001b[33m\"\u001b[39;49;00m, help=\u001b[33m\"\u001b[39;49;00m\u001b[33mbatch size (default: 4)\u001b[39;49;00m\u001b[33m\"\u001b[39;49;00m\n",
      "    )\n",
      "    parser.add_argument(\n",
      "        \u001b[33m\"\u001b[39;49;00m\u001b[33m--lr\u001b[39;49;00m\u001b[33m\"\u001b[39;49;00m,\n",
      "        \u001b[36mtype\u001b[39;49;00m=\u001b[36mfloat\u001b[39;49;00m,\n",
      "        default=\u001b[34m0.001\u001b[39;49;00m,\n",
      "        metavar=\u001b[33m\"\u001b[39;49;00m\u001b[33mLR\u001b[39;49;00m\u001b[33m\"\u001b[39;49;00m,\n",
      "        help=\u001b[33m\"\u001b[39;49;00m\u001b[33minitial learning rate (default: 0.001)\u001b[39;49;00m\u001b[33m\"\u001b[39;49;00m,\n",
      "    )\n",
      "    parser.add_argument(\n",
      "        \u001b[33m\"\u001b[39;49;00m\u001b[33m--momentum\u001b[39;49;00m\u001b[33m\"\u001b[39;49;00m, \u001b[36mtype\u001b[39;49;00m=\u001b[36mfloat\u001b[39;49;00m, default=\u001b[34m0.9\u001b[39;49;00m, metavar=\u001b[33m\"\u001b[39;49;00m\u001b[33mM\u001b[39;49;00m\u001b[33m\"\u001b[39;49;00m, help=\u001b[33m\"\u001b[39;49;00m\u001b[33mmomentum (default: 0.9)\u001b[39;49;00m\u001b[33m\"\u001b[39;49;00m\n",
      "    )\n",
      "    parser.add_argument(\n",
      "        \u001b[33m\"\u001b[39;49;00m\u001b[33m--dist_backend\u001b[39;49;00m\u001b[33m\"\u001b[39;49;00m, \u001b[36mtype\u001b[39;49;00m=\u001b[36mstr\u001b[39;49;00m, default=\u001b[33m\"\u001b[39;49;00m\u001b[33mgloo\u001b[39;49;00m\u001b[33m\"\u001b[39;49;00m, help=\u001b[33m\"\u001b[39;49;00m\u001b[33mdistributed backend (default: gloo)\u001b[39;49;00m\u001b[33m\"\u001b[39;49;00m\n",
      "    )\n",
      "\n",
      "    env = environment.Environment()\n",
      "    parser.add_argument(\u001b[33m\"\u001b[39;49;00m\u001b[33m--hosts\u001b[39;49;00m\u001b[33m\"\u001b[39;49;00m, \u001b[36mtype\u001b[39;49;00m=\u001b[36mlist\u001b[39;49;00m, default=env.hosts)\n",
      "    parser.add_argument(\u001b[33m\"\u001b[39;49;00m\u001b[33m--current-host\u001b[39;49;00m\u001b[33m\"\u001b[39;49;00m, \u001b[36mtype\u001b[39;49;00m=\u001b[36mstr\u001b[39;49;00m, default=env.current_host)\n",
      "    parser.add_argument(\u001b[33m\"\u001b[39;49;00m\u001b[33m--model-dir\u001b[39;49;00m\u001b[33m\"\u001b[39;49;00m, \u001b[36mtype\u001b[39;49;00m=\u001b[36mstr\u001b[39;49;00m, default=env.model_dir)\n",
      "    parser.add_argument(\u001b[33m\"\u001b[39;49;00m\u001b[33m--data-dir\u001b[39;49;00m\u001b[33m\"\u001b[39;49;00m, \u001b[36mtype\u001b[39;49;00m=\u001b[36mstr\u001b[39;49;00m, default=env.channel_input_dirs.get(\u001b[33m\"\u001b[39;49;00m\u001b[33mtraining\u001b[39;49;00m\u001b[33m\"\u001b[39;49;00m))\n",
      "    parser.add_argument(\u001b[33m\"\u001b[39;49;00m\u001b[33m--num-gpus\u001b[39;49;00m\u001b[33m\"\u001b[39;49;00m, \u001b[36mtype\u001b[39;49;00m=\u001b[36mint\u001b[39;49;00m, default=env.num_gpus)\n",
      "\n",
      "    _train(parser.parse_args())\n"
     ]
    }
   ],
   "source": [
    "!pygmentize source/cifar10.py"
   ]
  },
  {
   "cell_type": "markdown",
   "metadata": {},
   "source": [
    "## Script Functions\n",
    "\n",
    "SageMaker invokes the main function defined within your training script for training. When deploying your trained model to an endpoint, the model_fn() is called to determine how to load your trained model. The model_fn() along with a few other functions list below are called to enable predictions on SageMaker.\n",
    "\n",
    "### [Predicting Functions](https://github.com/aws/sagemaker-pytorch-containers/blob/master/src/sagemaker_pytorch_container/serving.py)\n",
    "* model_fn(model_dir) - loads your model.\n",
    "* input_fn(serialized_input_data, content_type) - deserializes predictions to predict_fn.\n",
    "* output_fn(prediction_output, accept) - serializes predictions from predict_fn.\n",
    "* predict_fn(input_data, model) - calls a model on data deserialized in input_fn.\n",
    "\n",
    "The model_fn() is the only function that doesn't have a default implementation and is required by the user for using PyTorch on SageMaker. "
   ]
  },
  {
   "cell_type": "markdown",
   "metadata": {},
   "source": [
    "## Create a training job using the sagemaker.PyTorch estimator\n",
    "\n",
    "The `PyTorch` class allows us to run our training function on SageMaker. We need to configure it with our training script, an IAM role, the number of training instances, and the training instance type. For local training with GPU, we could set this to \"local_gpu\".  In this case, `instance_type` was set above based on your whether you're running a GPU instance.\n",
    "\n",
    "After we've constructed our `PyTorch` object, we fit it using the data we uploaded to S3. Even though we're in local mode, using S3 as our data source makes sense because it maintains consistency with how SageMaker's distributed, managed training ingests data.\n"
   ]
  },
  {
   "cell_type": "code",
   "execution_count": 8,
   "metadata": {
    "scrolled": true
   },
   "outputs": [
    {
     "name": "stderr",
     "output_type": "stream",
     "text": [
      "WARNING! Using --password via the CLI is insecure. Use --password-stdin.\n",
      "WARNING! Your password will be stored unencrypted in /home/ec2-user/.docker/config.json.\n",
      "Configure a credential helper to remove this warning. See\n",
      "https://docs.docker.com/engine/reference/commandline/login/#credentials-store\n",
      "\n"
     ]
    },
    {
     "name": "stdout",
     "output_type": "stream",
     "text": [
      "Creating rctzc4rcli-algo-1-oh7dn ... \n",
      "Creating rctzc4rcli-algo-1-oh7dn ... done\n",
      "Attaching to rctzc4rcli-algo-1-oh7dn\n",
      "\u001b[36mrctzc4rcli-algo-1-oh7dn |\u001b[0m INFO:sagemaker-training-toolkit:No exception classes found in smdistributed.dataparallel\n",
      "\u001b[36mrctzc4rcli-algo-1-oh7dn |\u001b[0m INFO:sagemaker-training-toolkit:Imported framework sagemaker_pytorch_container.training\n",
      "\u001b[36mrctzc4rcli-algo-1-oh7dn |\u001b[0m INFO:sagemaker_pytorch_container.training:Block until all host DNS lookups succeed.\n",
      "\u001b[36mrctzc4rcli-algo-1-oh7dn |\u001b[0m INFO:sagemaker_pytorch_container.training:Invoking user training script.\n",
      "\u001b[36mrctzc4rcli-algo-1-oh7dn |\u001b[0m INFO:sagemaker-training-toolkit:Invoking user script\n",
      "\u001b[36mrctzc4rcli-algo-1-oh7dn |\u001b[0m \n",
      "\u001b[36mrctzc4rcli-algo-1-oh7dn |\u001b[0m Training Env:\n",
      "\u001b[36mrctzc4rcli-algo-1-oh7dn |\u001b[0m \n",
      "\u001b[36mrctzc4rcli-algo-1-oh7dn |\u001b[0m {\n",
      "\u001b[36mrctzc4rcli-algo-1-oh7dn |\u001b[0m     \"additional_framework_parameters\": {},\n",
      "\u001b[36mrctzc4rcli-algo-1-oh7dn |\u001b[0m     \"channel_input_dirs\": {\n",
      "\u001b[36mrctzc4rcli-algo-1-oh7dn |\u001b[0m         \"training\": \"/opt/ml/input/data/training\"\n",
      "\u001b[36mrctzc4rcli-algo-1-oh7dn |\u001b[0m     },\n",
      "\u001b[36mrctzc4rcli-algo-1-oh7dn |\u001b[0m     \"current_host\": \"algo-1-oh7dn\",\n",
      "\u001b[36mrctzc4rcli-algo-1-oh7dn |\u001b[0m     \"framework_module\": \"sagemaker_pytorch_container.training:main\",\n",
      "\u001b[36mrctzc4rcli-algo-1-oh7dn |\u001b[0m     \"hosts\": [\n",
      "\u001b[36mrctzc4rcli-algo-1-oh7dn |\u001b[0m         \"algo-1-oh7dn\"\n",
      "\u001b[36mrctzc4rcli-algo-1-oh7dn |\u001b[0m     ],\n",
      "\u001b[36mrctzc4rcli-algo-1-oh7dn |\u001b[0m     \"hyperparameters\": {},\n",
      "\u001b[36mrctzc4rcli-algo-1-oh7dn |\u001b[0m     \"input_config_dir\": \"/opt/ml/input/config\",\n",
      "\u001b[36mrctzc4rcli-algo-1-oh7dn |\u001b[0m     \"input_data_config\": {\n",
      "\u001b[36mrctzc4rcli-algo-1-oh7dn |\u001b[0m         \"training\": {\n",
      "\u001b[36mrctzc4rcli-algo-1-oh7dn |\u001b[0m             \"TrainingInputMode\": \"File\"\n",
      "\u001b[36mrctzc4rcli-algo-1-oh7dn |\u001b[0m         }\n",
      "\u001b[36mrctzc4rcli-algo-1-oh7dn |\u001b[0m     },\n",
      "\u001b[36mrctzc4rcli-algo-1-oh7dn |\u001b[0m     \"input_dir\": \"/opt/ml/input\",\n",
      "\u001b[36mrctzc4rcli-algo-1-oh7dn |\u001b[0m     \"is_master\": true,\n",
      "\u001b[36mrctzc4rcli-algo-1-oh7dn |\u001b[0m     \"is_modelparallel_enabled\": null,\n",
      "\u001b[36mrctzc4rcli-algo-1-oh7dn |\u001b[0m     \"job_name\": \"pytorch-training-2022-06-18-09-50-50-352\",\n",
      "\u001b[36mrctzc4rcli-algo-1-oh7dn |\u001b[0m     \"log_level\": 20,\n",
      "\u001b[36mrctzc4rcli-algo-1-oh7dn |\u001b[0m     \"master_hostname\": \"algo-1-oh7dn\",\n",
      "\u001b[36mrctzc4rcli-algo-1-oh7dn |\u001b[0m     \"model_dir\": \"/opt/ml/model\",\n",
      "\u001b[36mrctzc4rcli-algo-1-oh7dn |\u001b[0m     \"module_dir\": \"s3://sagemaker-us-east-1-631450739534/pytorch-training-2022-06-18-09-50-50-352/source/sourcedir.tar.gz\",\n",
      "\u001b[36mrctzc4rcli-algo-1-oh7dn |\u001b[0m     \"module_name\": \"cifar10\",\n",
      "\u001b[36mrctzc4rcli-algo-1-oh7dn |\u001b[0m     \"network_interface_name\": \"eth0\",\n",
      "\u001b[36mrctzc4rcli-algo-1-oh7dn |\u001b[0m     \"num_cpus\": 4,\n",
      "\u001b[36mrctzc4rcli-algo-1-oh7dn |\u001b[0m     \"num_gpus\": 1,\n",
      "\u001b[36mrctzc4rcli-algo-1-oh7dn |\u001b[0m     \"output_data_dir\": \"/opt/ml/output/data\",\n",
      "\u001b[36mrctzc4rcli-algo-1-oh7dn |\u001b[0m     \"output_dir\": \"/opt/ml/output\",\n",
      "\u001b[36mrctzc4rcli-algo-1-oh7dn |\u001b[0m     \"output_intermediate_dir\": \"/opt/ml/output/intermediate\",\n",
      "\u001b[36mrctzc4rcli-algo-1-oh7dn |\u001b[0m     \"resource_config\": {\n",
      "\u001b[36mrctzc4rcli-algo-1-oh7dn |\u001b[0m         \"current_host\": \"algo-1-oh7dn\",\n",
      "\u001b[36mrctzc4rcli-algo-1-oh7dn |\u001b[0m         \"hosts\": [\n",
      "\u001b[36mrctzc4rcli-algo-1-oh7dn |\u001b[0m             \"algo-1-oh7dn\"\n",
      "\u001b[36mrctzc4rcli-algo-1-oh7dn |\u001b[0m         ]\n",
      "\u001b[36mrctzc4rcli-algo-1-oh7dn |\u001b[0m     },\n",
      "\u001b[36mrctzc4rcli-algo-1-oh7dn |\u001b[0m     \"user_entry_point\": \"cifar10.py\"\n",
      "\u001b[36mrctzc4rcli-algo-1-oh7dn |\u001b[0m }\n",
      "\u001b[36mrctzc4rcli-algo-1-oh7dn |\u001b[0m \n",
      "\u001b[36mrctzc4rcli-algo-1-oh7dn |\u001b[0m Environment variables:\n",
      "\u001b[36mrctzc4rcli-algo-1-oh7dn |\u001b[0m \n",
      "\u001b[36mrctzc4rcli-algo-1-oh7dn |\u001b[0m SM_HOSTS=[\"algo-1-oh7dn\"]\n",
      "\u001b[36mrctzc4rcli-algo-1-oh7dn |\u001b[0m SM_NETWORK_INTERFACE_NAME=eth0\n",
      "\u001b[36mrctzc4rcli-algo-1-oh7dn |\u001b[0m SM_HPS={}\n",
      "\u001b[36mrctzc4rcli-algo-1-oh7dn |\u001b[0m SM_USER_ENTRY_POINT=cifar10.py\n",
      "\u001b[36mrctzc4rcli-algo-1-oh7dn |\u001b[0m SM_FRAMEWORK_PARAMS={}\n",
      "\u001b[36mrctzc4rcli-algo-1-oh7dn |\u001b[0m SM_RESOURCE_CONFIG={\"current_host\":\"algo-1-oh7dn\",\"hosts\":[\"algo-1-oh7dn\"]}\n",
      "\u001b[36mrctzc4rcli-algo-1-oh7dn |\u001b[0m SM_INPUT_DATA_CONFIG={\"training\":{\"TrainingInputMode\":\"File\"}}\n",
      "\u001b[36mrctzc4rcli-algo-1-oh7dn |\u001b[0m SM_OUTPUT_DATA_DIR=/opt/ml/output/data\n",
      "\u001b[36mrctzc4rcli-algo-1-oh7dn |\u001b[0m SM_CHANNELS=[\"training\"]\n",
      "\u001b[36mrctzc4rcli-algo-1-oh7dn |\u001b[0m SM_CURRENT_HOST=algo-1-oh7dn\n",
      "\u001b[36mrctzc4rcli-algo-1-oh7dn |\u001b[0m SM_MODULE_NAME=cifar10\n",
      "\u001b[36mrctzc4rcli-algo-1-oh7dn |\u001b[0m SM_LOG_LEVEL=20\n",
      "\u001b[36mrctzc4rcli-algo-1-oh7dn |\u001b[0m SM_FRAMEWORK_MODULE=sagemaker_pytorch_container.training:main\n",
      "\u001b[36mrctzc4rcli-algo-1-oh7dn |\u001b[0m SM_INPUT_DIR=/opt/ml/input\n",
      "\u001b[36mrctzc4rcli-algo-1-oh7dn |\u001b[0m SM_INPUT_CONFIG_DIR=/opt/ml/input/config\n",
      "\u001b[36mrctzc4rcli-algo-1-oh7dn |\u001b[0m SM_OUTPUT_DIR=/opt/ml/output\n",
      "\u001b[36mrctzc4rcli-algo-1-oh7dn |\u001b[0m SM_NUM_CPUS=4\n",
      "\u001b[36mrctzc4rcli-algo-1-oh7dn |\u001b[0m SM_NUM_GPUS=1\n",
      "\u001b[36mrctzc4rcli-algo-1-oh7dn |\u001b[0m SM_MODEL_DIR=/opt/ml/model\n",
      "\u001b[36mrctzc4rcli-algo-1-oh7dn |\u001b[0m SM_MODULE_DIR=s3://sagemaker-us-east-1-631450739534/pytorch-training-2022-06-18-09-50-50-352/source/sourcedir.tar.gz\n",
      "\u001b[36mrctzc4rcli-algo-1-oh7dn |\u001b[0m SM_TRAINING_ENV={\"additional_framework_parameters\":{},\"channel_input_dirs\":{\"training\":\"/opt/ml/input/data/training\"},\"current_host\":\"algo-1-oh7dn\",\"framework_module\":\"sagemaker_pytorch_container.training:main\",\"hosts\":[\"algo-1-oh7dn\"],\"hyperparameters\":{},\"input_config_dir\":\"/opt/ml/input/config\",\"input_data_config\":{\"training\":{\"TrainingInputMode\":\"File\"}},\"input_dir\":\"/opt/ml/input\",\"is_master\":true,\"is_modelparallel_enabled\":null,\"job_name\":\"pytorch-training-2022-06-18-09-50-50-352\",\"log_level\":20,\"master_hostname\":\"algo-1-oh7dn\",\"model_dir\":\"/opt/ml/model\",\"module_dir\":\"s3://sagemaker-us-east-1-631450739534/pytorch-training-2022-06-18-09-50-50-352/source/sourcedir.tar.gz\",\"module_name\":\"cifar10\",\"network_interface_name\":\"eth0\",\"num_cpus\":4,\"num_gpus\":1,\"output_data_dir\":\"/opt/ml/output/data\",\"output_dir\":\"/opt/ml/output\",\"output_intermediate_dir\":\"/opt/ml/output/intermediate\",\"resource_config\":{\"current_host\":\"algo-1-oh7dn\",\"hosts\":[\"algo-1-oh7dn\"]},\"user_entry_point\":\"cifar10.py\"}\n",
      "\u001b[36mrctzc4rcli-algo-1-oh7dn |\u001b[0m SM_USER_ARGS=[]\n",
      "\u001b[36mrctzc4rcli-algo-1-oh7dn |\u001b[0m SM_OUTPUT_INTERMEDIATE_DIR=/opt/ml/output/intermediate\n",
      "\u001b[36mrctzc4rcli-algo-1-oh7dn |\u001b[0m SM_CHANNEL_TRAINING=/opt/ml/input/data/training\n",
      "\u001b[36mrctzc4rcli-algo-1-oh7dn |\u001b[0m PYTHONPATH=/opt/ml/code:/opt/conda/lib/python3.8/site-packages/smdistributed/dataparallel/lib:/opt/conda/bin:/opt/conda/lib/python38.zip:/opt/conda/lib/python3.8:/opt/conda/lib/python3.8/lib-dynload:/opt/conda/lib/python3.8/site-packages:/opt/conda/lib/python3.8/site-packages/smdebug-1.0.16b20220617-py3.8.egg:/opt/conda/lib/python3.8/site-packages/pyinstrument-3.4.2-py3.8.egg:/opt/conda/lib/python3.8/site-packages/pyinstrument_cext-0.2.4-py3.8-linux-x86_64.egg\n",
      "\u001b[36mrctzc4rcli-algo-1-oh7dn |\u001b[0m \n",
      "\u001b[36mrctzc4rcli-algo-1-oh7dn |\u001b[0m Invoking script with the following command:\n",
      "\u001b[36mrctzc4rcli-algo-1-oh7dn |\u001b[0m \n",
      "\u001b[36mrctzc4rcli-algo-1-oh7dn |\u001b[0m /opt/conda/bin/python3.8 cifar10.py\n",
      "\u001b[36mrctzc4rcli-algo-1-oh7dn |\u001b[0m \n",
      "\u001b[36mrctzc4rcli-algo-1-oh7dn |\u001b[0m \n",
      "\u001b[36mrctzc4rcli-algo-1-oh7dn |\u001b[0m [2022-06-18 09:54:46.973 algo-1-oh7dn:37 INFO utils.py:27] RULE_JOB_STOP_SIGNAL_FILENAME: None\n",
      "\u001b[36mrctzc4rcli-algo-1-oh7dn |\u001b[0m /opt/conda/lib/python3.8/site-packages/smdebug-1.0.16b20220617-py3.8.egg/smdebug/profiler/system_metrics_reader.py:63: SyntaxWarning: \"is not\" with a literal. Did you mean \"!=\"?\n",
      "\u001b[36mrctzc4rcli-algo-1-oh7dn |\u001b[0m /opt/conda/lib/python3.8/site-packages/smdebug-1.0.16b20220617-py3.8.egg/smdebug/profiler/system_metrics_reader.py:63: SyntaxWarning: \"is not\" with a literal. Did you mean \"!=\"?\n",
      "\u001b[36mrctzc4rcli-algo-1-oh7dn |\u001b[0m [2022-06-18 09:54:47.112 algo-1-oh7dn:37 INFO profiler_config_parser.py:111] Unable to find config at /opt/ml/input/config/profilerconfig.json. Profiler is disabled.\n",
      "\u001b[36mrctzc4rcli-algo-1-oh7dn |\u001b[0m [1,  2000] loss: 2.222\n",
      "\u001b[36mrctzc4rcli-algo-1-oh7dn |\u001b[0m [1,  4000] loss: 1.833\n",
      "\u001b[36mrctzc4rcli-algo-1-oh7dn |\u001b[0m [1,  6000] loss: 1.625\n",
      "\u001b[36mrctzc4rcli-algo-1-oh7dn |\u001b[0m [1,  8000] loss: 1.560\n",
      "\u001b[36mrctzc4rcli-algo-1-oh7dn |\u001b[0m [1, 10000] loss: 1.480\n",
      "\u001b[36mrctzc4rcli-algo-1-oh7dn |\u001b[0m [1, 12000] loss: 1.435\n",
      "\u001b[36mrctzc4rcli-algo-1-oh7dn |\u001b[0m [2,  2000] loss: 1.373\n",
      "\u001b[36mrctzc4rcli-algo-1-oh7dn |\u001b[0m [2,  4000] loss: 1.311\n",
      "\u001b[36mrctzc4rcli-algo-1-oh7dn |\u001b[0m [2,  6000] loss: 1.302\n",
      "\u001b[36mrctzc4rcli-algo-1-oh7dn |\u001b[0m [2,  8000] loss: 1.290\n",
      "\u001b[36mrctzc4rcli-algo-1-oh7dn |\u001b[0m [2, 10000] loss: 1.257\n",
      "\u001b[36mrctzc4rcli-algo-1-oh7dn |\u001b[0m [2, 12000] loss: 1.223\n",
      "\u001b[36mrctzc4rcli-algo-1-oh7dn |\u001b[0m Finished Training\n",
      "\u001b[36mrctzc4rcli-algo-1-oh7dn |\u001b[0m INFO:__main__:Saving the model.\n",
      "\u001b[36mrctzc4rcli-algo-1-oh7dn |\u001b[0m INFO:sagemaker-training-toolkit:Waiting for the process to finish and give a return code.\n",
      "\u001b[36mrctzc4rcli-algo-1-oh7dn |\u001b[0m INFO:sagemaker-training-toolkit:Done waiting for a return code. Received 0 from exiting process.\n",
      "\u001b[36mrctzc4rcli-algo-1-oh7dn |\u001b[0m INFO:sagemaker-training-toolkit:Reporting training SUCCESS\n",
      "\u001b[36mrctzc4rcli-algo-1-oh7dn exited with code 0\n",
      "\u001b[0mAborting on container exit...\n",
      "===== Job Complete =====\n"
     ]
    }
   ],
   "source": [
    "from sagemaker.pytorch import PyTorch\n",
    "\n",
    "cifar10_estimator = PyTorch(\n",
    "    image_uri='763104351884.dkr.ecr.us-east-1.amazonaws.com/pytorch-training:1.11.0-gpu-py38-cu113-ubuntu20.04-sagemaker',\n",
    "    entry_point=\"source/cifar10.py\",\n",
    "    role=role,\n",
    "#     framework_version=\"1.7.1\",\n",
    "    py_version=\"py3\",\n",
    "    instance_count=1,\n",
    "    instance_type=instance_type,\n",
    "#     instance_type='ml.g4dn.xlarge',\n",
    "#     wait=False\n",
    ")\n",
    "\n",
    "cifar10_estimator.fit(inputs)"
   ]
  },
  {
   "cell_type": "markdown",
   "metadata": {},
   "source": [
    "## Part 3: Hosting the pretrained model using extended pytorch container image"
   ]
  },
  {
   "cell_type": "markdown",
   "metadata": {},
   "source": [
    "## Create a SageMaker endpoint using BYOM model\n",
    "In this section, we will demonstrate how to create a SageMaker real-time endpoint using your own pretrained model.\n",
    "\n",
    "More information about the different functions in the inference.py file can be found here. https://sagemaker-examples.readthedocs.io/en/latest/frameworks/pytorch/get_started_mnist_deploy.html#Entry-Point-for-the-Inference-Image"
   ]
  },
  {
   "cell_type": "code",
   "execution_count": 12,
   "metadata": {},
   "outputs": [
    {
     "name": "stdout",
     "output_type": "stream",
     "text": [
      "s3://sagemaker-us-east-1-631450739534/pytorch-training-2022-06-18-09-50-50-352/model.tar.gz\n"
     ]
    }
   ],
   "source": [
    "model_url = cifar10_estimator.model_data\n",
    "print(model_url)"
   ]
  },
  {
   "cell_type": "code",
   "execution_count": 53,
   "metadata": {},
   "outputs": [],
   "source": [
    "from sagemaker.pytorch import PyTorchModel\n",
    "from sagemaker.serializers import JSONSerializer\n",
    "from sagemaker.deserializers import JSONDeserializer\n",
    "\n",
    "pytorch_endpoint_name = \"pytorch-endpoint-realtime\""
   ]
  },
  {
   "cell_type": "code",
   "execution_count": 196,
   "metadata": {},
   "outputs": [],
   "source": [
    "model = PyTorchModel(\n",
    "    entry_point=\"inference.py\",\n",
    "    source_dir=\"code\",\n",
    "    role=role,\n",
    "    model_data=model_url,\n",
    "    framework_version=\"1.11.0\",\n",
    "    py_version=\"py3\",\n",
    "    image_uri='pytorch-extending-our-containers-example:latest',\n",
    "#     image_uri='631450739534.dkr.ecr.us-east-1.amazonaws.com/pytorch-extending-our-containers-example:latest'\n",
    ")"
   ]
  },
  {
   "cell_type": "code",
   "execution_count": 203,
   "metadata": {
    "scrolled": true
   },
   "outputs": [
    {
     "name": "stdout",
     "output_type": "stream",
     "text": [
      "Attaching to anftpb2son-algo-1-boz5w\n",
      "\u001b[36manftpb2son-algo-1-boz5w |\u001b[0m ['torchserve', '--start', '--model-store', '/.sagemaker/ts/models', '--ts-config', '/etc/sagemaker-ts.properties', '--log-config', '/opt/conda/lib/python3.8/site-packages/sagemaker_pytorch_serving_container/etc/log4j2.xml', '--models', 'model=/opt/ml/model']\n",
      "\u001b[36manftpb2son-algo-1-boz5w |\u001b[0m WARNING: sun.reflect.Reflection.getCallerClass is not supported. This will impact performance.\n",
      "\u001b[36manftpb2son-algo-1-boz5w |\u001b[0m 2022-06-18T12:37:19,905 [INFO ] main org.pytorch.serve.servingsdk.impl.PluginsManager - Initializing plugins manager...\n",
      "\u001b[36manftpb2son-algo-1-boz5w |\u001b[0m 2022-06-18T12:37:20,000 [INFO ] main org.pytorch.serve.ModelServer - \n",
      "\u001b[36manftpb2son-algo-1-boz5w |\u001b[0m Torchserve version: 0.6.0\n",
      "\u001b[36manftpb2son-algo-1-boz5w |\u001b[0m TS Home: /opt/conda/lib/python3.8/site-packages\n",
      "\u001b[36manftpb2son-algo-1-boz5w |\u001b[0m Current directory: /\n",
      "\u001b[36manftpb2son-algo-1-boz5w |\u001b[0m Temp directory: /home/model-server/tmp\n",
      "\u001b[36manftpb2son-algo-1-boz5w |\u001b[0m Number of GPUs: 1\n",
      "\u001b[36manftpb2son-algo-1-boz5w |\u001b[0m Number of CPUs: 4\n",
      "\u001b[36manftpb2son-algo-1-boz5w |\u001b[0m Max heap size: 3928 M\n",
      "\u001b[36manftpb2son-algo-1-boz5w |\u001b[0m Python executable: /opt/conda/bin/python3.8\n",
      "\u001b[36manftpb2son-algo-1-boz5w |\u001b[0m Config file: /etc/sagemaker-ts.properties\n",
      "\u001b[36manftpb2son-algo-1-boz5w |\u001b[0m Inference address: http://0.0.0.0:8080\n",
      "\u001b[36manftpb2son-algo-1-boz5w |\u001b[0m Management address: http://0.0.0.0:8080\n",
      "\u001b[36manftpb2son-algo-1-boz5w |\u001b[0m Metrics address: http://127.0.0.1:8082\n",
      "\u001b[36manftpb2son-algo-1-boz5w |\u001b[0m Model Store: /.sagemaker/ts/models\n",
      "\u001b[36manftpb2son-algo-1-boz5w |\u001b[0m Initial Models: model=/opt/ml/model\n",
      "\u001b[36manftpb2son-algo-1-boz5w |\u001b[0m Log dir: /logs\n",
      "\u001b[36manftpb2son-algo-1-boz5w |\u001b[0m Metrics dir: /logs\n",
      "\u001b[36manftpb2son-algo-1-boz5w |\u001b[0m Netty threads: 0\n",
      "\u001b[36manftpb2son-algo-1-boz5w |\u001b[0m Netty client threads: 0\n",
      "\u001b[36manftpb2son-algo-1-boz5w |\u001b[0m Default workers per model: 1\n",
      "\u001b[36manftpb2son-algo-1-boz5w |\u001b[0m Blacklist Regex: N/A\n",
      "\u001b[36manftpb2son-algo-1-boz5w |\u001b[0m Maximum Response Size: 6553500\n",
      "\u001b[36manftpb2son-algo-1-boz5w |\u001b[0m Maximum Request Size: 6553500\n",
      "\u001b[36manftpb2son-algo-1-boz5w |\u001b[0m Limit Maximum Image Pixels: true\n",
      "\u001b[36manftpb2son-algo-1-boz5w |\u001b[0m Prefer direct buffer: false\n",
      "\u001b[36manftpb2son-algo-1-boz5w |\u001b[0m Allowed Urls: [file://.*|http(s)?://.*]\n",
      "\u001b[36manftpb2son-algo-1-boz5w |\u001b[0m Custom python dependency for model allowed: false\n",
      "\u001b[36manftpb2son-algo-1-boz5w |\u001b[0m Metrics report format: prometheus\n",
      "\u001b[36manftpb2son-algo-1-boz5w |\u001b[0m Enable metrics API: true\n",
      "\u001b[36manftpb2son-algo-1-boz5w |\u001b[0m Workflow Store: /.sagemaker/ts/models\n",
      "\u001b[36manftpb2son-algo-1-boz5w |\u001b[0m Model config: N/A\n",
      "\u001b[36manftpb2son-algo-1-boz5w |\u001b[0m 2022-06-18T12:37:20,007 [INFO ] main org.pytorch.serve.servingsdk.impl.PluginsManager -  Loading snapshot serializer plugin...\n",
      "\u001b[36manftpb2son-algo-1-boz5w |\u001b[0m 2022-06-18T12:37:20,035 [INFO ] main org.pytorch.serve.ModelServer - Loading initial models: /opt/ml/model\n",
      "\u001b[36manftpb2son-algo-1-boz5w |\u001b[0m 2022-06-18T12:37:20,039 [WARN ] main org.pytorch.serve.archive.model.ModelArchive - Model archive version is not defined. Please upgrade to torch-model-archiver 0.2.0 or higher\n",
      "\u001b[36manftpb2son-algo-1-boz5w |\u001b[0m 2022-06-18T12:37:20,039 [WARN ] main org.pytorch.serve.archive.model.ModelArchive - Model archive createdOn is not defined. Please upgrade to torch-model-archiver 0.2.0 or higher\n",
      "\u001b[36manftpb2son-algo-1-boz5w |\u001b[0m 2022-06-18T12:37:20,042 [INFO ] main org.pytorch.serve.wlm.ModelManager - Model model loaded.\n",
      "\u001b[36manftpb2son-algo-1-boz5w |\u001b[0m 2022-06-18T12:37:20,064 [INFO ] main org.pytorch.serve.ModelServer - Initialize Inference server with: EpollServerSocketChannel.\n",
      "\u001b[36manftpb2son-algo-1-boz5w |\u001b[0m 2022-06-18T12:37:20,178 [INFO ] main org.pytorch.serve.ModelServer - Inference API bind to: http://0.0.0.0:8080\n",
      "\u001b[36manftpb2son-algo-1-boz5w |\u001b[0m 2022-06-18T12:37:20,178 [INFO ] main org.pytorch.serve.ModelServer - Initialize Metrics server with: EpollServerSocketChannel.\n",
      "\u001b[36manftpb2son-algo-1-boz5w |\u001b[0m 2022-06-18T12:37:20,190 [INFO ] main org.pytorch.serve.ModelServer - Metrics API bind to: http://127.0.0.1:8082\n",
      "\u001b[36manftpb2son-algo-1-boz5w |\u001b[0m Model server started.\n",
      "\u001b[36manftpb2son-algo-1-boz5w |\u001b[0m 2022-06-18T12:37:20,736 [WARN ] pool-3-thread-1 org.pytorch.serve.metrics.MetricCollector - worker pid is not available yet.\n",
      "\u001b[36manftpb2son-algo-1-boz5w |\u001b[0m 2022-06-18T12:37:20,847 [ERROR] Thread-1 org.pytorch.serve.metrics.MetricCollector - Traceback (most recent call last):\n",
      "\u001b[36manftpb2son-algo-1-boz5w |\u001b[0m   File \"ts/metrics/metric_collector.py\", line 27, in <module>\n",
      "\u001b[36manftpb2son-algo-1-boz5w |\u001b[0m     system_metrics.collect_all(sys.modules['ts.metrics.system_metrics'], arguments.gpu)\n",
      "\u001b[36manftpb2son-algo-1-boz5w |\u001b[0m   File \"/opt/conda/lib/python3.8/site-packages/ts/metrics/system_metrics.py\", line 91, in collect_all\n",
      "\u001b[36manftpb2son-algo-1-boz5w |\u001b[0m     value(num_of_gpu)\n",
      "\u001b[36manftpb2son-algo-1-boz5w |\u001b[0m   File \"/opt/conda/lib/python3.8/site-packages/ts/metrics/system_metrics.py\", line 61, in gpu_utilization\n",
      "\u001b[36manftpb2son-algo-1-boz5w |\u001b[0m     import nvgpu\n",
      "\u001b[36manftpb2son-algo-1-boz5w |\u001b[0m ModuleNotFoundError: No module named 'nvgpu'\n",
      "\u001b[36manftpb2son-algo-1-boz5w |\u001b[0m \n",
      "\u001b[36manftpb2son-algo-1-boz5w |\u001b[0m 2022-06-18T12:37:21,064 [INFO ] W-9000-model_1.0-stdout MODEL_LOG - Listening on port: /home/model-server/tmp/.ts.sock.9000\n",
      "\u001b[36manftpb2son-algo-1-boz5w |\u001b[0m 2022-06-18T12:37:21,066 [INFO ] W-9000-model_1.0-stdout MODEL_LOG - [PID]72\n",
      "\u001b[36manftpb2son-algo-1-boz5w |\u001b[0m 2022-06-18T12:37:21,066 [INFO ] W-9000-model_1.0-stdout MODEL_LOG - Torch worker started.\n",
      "\u001b[36manftpb2son-algo-1-boz5w |\u001b[0m 2022-06-18T12:37:21,066 [INFO ] W-9000-model_1.0-stdout MODEL_LOG - Python runtime: 3.8.13\n",
      "\u001b[36manftpb2son-algo-1-boz5w |\u001b[0m 2022-06-18T12:37:21,072 [INFO ] W-9000-model_1.0 org.pytorch.serve.wlm.WorkerThread - Connecting to: /home/model-server/tmp/.ts.sock.9000\n",
      "\u001b[36manftpb2son-algo-1-boz5w |\u001b[0m 2022-06-18T12:37:21,084 [INFO ] W-9000-model_1.0-stdout MODEL_LOG - Connection accepted: /home/model-server/tmp/.ts.sock.9000.\n",
      "\u001b[36manftpb2son-algo-1-boz5w |\u001b[0m 2022-06-18T12:37:21,094 [INFO ] W-9000-model_1.0 org.pytorch.serve.wlm.WorkerThread - Flushing req. to backend at: 1655555841094\n",
      "\u001b[36manftpb2son-algo-1-boz5w |\u001b[0m 2022-06-18T12:37:21,152 [INFO ] W-9000-model_1.0-stdout MODEL_LOG - model_name: model, batchSize: 1\n",
      "\u001b[36manftpb2son-algo-1-boz5w |\u001b[0m 2022-06-18T12:37:22,086 [INFO ] W-9000-model_1.0-stdout MODEL_LOG - generated new fontManager\n",
      "\u001b[36manftpb2son-algo-1-boz5w |\u001b[0m 2022-06-18T12:37:22,304 [INFO ] pool-2-thread-2 ACCESS_LOG - /172.18.0.1:53570 \"GET /ping HTTP/1.1\" 200 23\n",
      "\u001b[36manftpb2son-algo-1-boz5w |\u001b[0m 2022-06-18T12:37:22,305 [INFO ] pool-2-thread-2 TS_METRICS - Requests2XX.Count:1|#Level:Host|#hostname:408695d3fc49,timestamp:1655555842\n",
      "!\u001b[36manftpb2son-algo-1-boz5w |\u001b[0m 2022-06-18T12:37:22,712 [INFO ] W-9000-model_1.0-stdout MODEL_LOG - model_fn\n",
      "\u001b[36manftpb2son-algo-1-boz5w |\u001b[0m 2022-06-18T12:37:26,672 [INFO ] W-9000-model_1.0 org.pytorch.serve.wlm.WorkerThread - Backend response time: 5520\n",
      "\u001b[36manftpb2son-algo-1-boz5w |\u001b[0m 2022-06-18T12:37:26,672 [INFO ] W-9000-model_1.0 TS_METRICS - W-9000-model_1.0.ms:6623|#Level:Host|#hostname:408695d3fc49,timestamp:1655555846\n",
      "\u001b[36manftpb2son-algo-1-boz5w |\u001b[0m 2022-06-18T12:37:26,673 [INFO ] W-9000-model_1.0 TS_METRICS - WorkerThreadTime.ms:59|#Level:Host|#hostname:408695d3fc49,timestamp:1655555846\n"
     ]
    }
   ],
   "source": [
    "predictor = model.deploy(\n",
    "    initial_instance_count=1,\n",
    "    instance_type=instance_type,\n",
    "#     instance_type='ml.g4dn.xlarge',\n",
    "    serializer=JSONSerializer(),\n",
    "    deserializer=JSONDeserializer(),\n",
    ")"
   ]
  },
  {
   "cell_type": "markdown",
   "metadata": {},
   "source": [
    "## Making predictions using Python SDK\n",
    "\n",
    "To make predictions, we will use a few images, from the test loader, converted into a json format to send as an inference request.\n",
    "\n",
    "The reponse will be tensors containing the probabilities of each image belonging to one of the 10 classes. Based on the highest probability we will map that index to the corresponding class in our output. The classes can be referenced from the [CIFAR-10 website](https://www.cs.toronto.edu/~kriz/cifar.html). Since we didn't train the model for that long, we aren't expecting very accurate results."
   ]
  },
  {
   "cell_type": "code",
   "execution_count": 87,
   "metadata": {},
   "outputs": [],
   "source": [
    "dataiter = iter(testloader)"
   ]
  },
  {
   "cell_type": "code",
   "execution_count": null,
   "metadata": {},
   "outputs": [],
   "source": [
    "import torchvision, torch\n",
    "import numpy as np\n",
    "\n",
    "from sagemaker.predictor import json_serializer, json_deserializer\n",
    "\n",
    "# get some test images\n",
    "\n",
    "images, labels = dataiter.next()\n",
    "\n",
    "# print images\n",
    "imshow(torchvision.utils.make_grid(images))\n",
    "print(\"GroundTruth: \", \" \".join(\"%4s\" % classes[labels[j]] for j in range(4)))\n",
    "\n",
    "\n",
    "outputs = predictor.predict(images.numpy())\n",
    "\n",
    "_, predicted = torch.max(torch.from_numpy(np.array(outputs)), 1)\n",
    "\n",
    "print(\"Predicted: \", \" \".join(\"%4s\" % classes[predicted[j]] for j in range(4)))"
   ]
  },
  {
   "cell_type": "code",
   "execution_count": 120,
   "metadata": {},
   "outputs": [
    {
     "data": {
      "text/plain": [
       "{'data_source': 's3://sagemaker-us-east-1-631450739534/sagemaker/DEMO-pytorch-cnn-cifar10/data/example_file.json'}"
      ]
     },
     "execution_count": 120,
     "metadata": {},
     "output_type": "execute_result"
    }
   ],
   "source": [
    "file_name = 'example_file.json'\n",
    "with open(file_name, 'r') as file:\n",
    "    tmp = json.load(file)\n",
    "tmp"
   ]
  },
  {
   "cell_type": "code",
   "execution_count": 204,
   "metadata": {},
   "outputs": [
    {
     "name": "stdout",
     "output_type": "stream",
     "text": [
      "\u001b[36manftpb2son-algo-1-boz5w |\u001b[0m 2022-06-18T12:37:31,534 [INFO ] W-9000-model_1.0 org.pytorch.serve.wlm.WorkerThread - Flushing req. to backend at: 1655555851534\n",
      "\u001b[36manftpb2son-algo-1-boz5w |\u001b[0m 2022-06-18T12:37:31,536 [INFO ] W-9000-model_1.0-stdout MODEL_LOG - Backend received inference at: 1655555851\n",
      "\u001b[36manftpb2son-algo-1-boz5w |\u001b[0m 2022-06-18T12:37:31,536 [INFO ] W-9000-model_1.0-stdout MODEL_LOG - request type: application/json\n",
      "\u001b[36manftpb2son-algo-1-boz5w |\u001b[0m 2022-06-18T12:37:31,593 [INFO ] W-9000-model_1.0-stdout MODEL_LOG - {'data_source': 's3://sagemaker-us-east-1-631450739534/sagemaker/DEMO-pytorch-cnn-cifar10/data/example_file.json'}\n",
      "\u001b[36manftpb2son-algo-1-boz5w |\u001b[0m 2022-06-18T12:37:31,780 [INFO ] W-9000-model_1.0-stdout MODEL_LOG - Downloading https://www.cs.toronto.edu/~kriz/cifar-10-python.tar.gz to ./data/cifar-10-python.tar.gz\n",
      "\u001b[36manftpb2son-algo-1-boz5w |\u001b[0m 2022-06-18T12:37:31,780 [WARN ] W-9000-model_1.0-stderr MODEL_LOG - \n",
      "\u001b[36manftpb2son-algo-1-boz5w |\u001b[0m 2022-06-18T12:37:31,881 [WARN ] W-9000-model_1.0-stderr MODEL_LOG -   0%|          | 0/170498071 [00:00<?, ?it/s]\n",
      "\u001b[36manftpb2son-algo-1-boz5w |\u001b[0m 2022-06-18T12:37:31,981 [WARN ] W-9000-model_1.0-stderr MODEL_LOG -   0%|          | 590848/170498071 [00:00<00:28, 5870513.38it/s]\n",
      "\u001b[36manftpb2son-algo-1-boz5w |\u001b[0m 2022-06-18T12:37:32,081 [WARN ] W-9000-model_1.0-stderr MODEL_LOG -   4%|▎         | 6358016/170498071 [00:00<00:04, 36257682.91it/s]\n",
      "\u001b[36manftpb2son-algo-1-boz5w |\u001b[0m 2022-06-18T12:37:32,181 [WARN ] W-9000-model_1.0-stderr MODEL_LOG -   8%|▊         | 13927424/170498071 [00:00<00:02, 54235959.20it/s]\n",
      "\u001b[36manftpb2son-algo-1-boz5w |\u001b[0m 2022-06-18T12:37:32,281 [WARN ] W-9000-model_1.0-stderr MODEL_LOG -  13%|█▎        | 21824512/170498071 [00:00<00:02, 63984451.38it/s]\n",
      "\u001b[36manftpb2son-algo-1-boz5w |\u001b[0m 2022-06-18T12:37:32,381 [WARN ] W-9000-model_1.0-stderr MODEL_LOG -  18%|█▊        | 30458880/170498071 [00:00<00:01, 72015927.95it/s]\n",
      "\u001b[36manftpb2son-algo-1-boz5w |\u001b[0m 2022-06-18T12:37:32,481 [WARN ] W-9000-model_1.0-stderr MODEL_LOG -  24%|██▍       | 41734144/170498071 [00:00<00:01, 85856974.12it/s]\n",
      "\u001b[36manftpb2son-algo-1-boz5w |\u001b[0m 2022-06-18T12:37:32,581 [WARN ] W-9000-model_1.0-stderr MODEL_LOG -  31%|███▏      | 53475328/170498071 [00:00<00:01, 96166655.76it/s]\n",
      "\u001b[36manftpb2son-algo-1-boz5w |\u001b[0m 2022-06-18T12:37:32,681 [WARN ] W-9000-model_1.0-stderr MODEL_LOG -  38%|███▊      | 65078272/170498071 [00:00<00:01, 102485592.11it/s]\n",
      "\u001b[36manftpb2son-algo-1-boz5w |\u001b[0m 2022-06-18T12:37:32,781 [WARN ] W-9000-model_1.0-stderr MODEL_LOG -  45%|████▍     | 76514304/170498071 [00:00<00:00, 106184535.05it/s]\n",
      "\u001b[36manftpb2son-algo-1-boz5w |\u001b[0m 2022-06-18T12:37:32,881 [WARN ] W-9000-model_1.0-stderr MODEL_LOG -  52%|█████▏    | 88122368/170498071 [00:01<00:00, 109238304.96it/s]\n",
      "\u001b[36manftpb2son-algo-1-boz5w |\u001b[0m 2022-06-18T12:37:32,981 [WARN ] W-9000-model_1.0-stderr MODEL_LOG -  58%|█████▊    | 99714048/170498071 [00:01<00:00, 111277642.67it/s]\n",
      "\u001b[36manftpb2son-algo-1-boz5w |\u001b[0m 2022-06-18T12:37:33,081 [WARN ] W-9000-model_1.0-stderr MODEL_LOG -  65%|██████▌   | 111215616/170498071 [00:01<00:00, 112400067.28it/s]\n",
      "\u001b[36manftpb2son-algo-1-boz5w |\u001b[0m 2022-06-18T12:37:33,181 [WARN ] W-9000-model_1.0-stderr MODEL_LOG -  72%|███████▏  | 122831872/170498071 [00:01<00:00, 113509670.81it/s]\n",
      "\u001b[36manftpb2son-algo-1-boz5w |\u001b[0m 2022-06-18T12:37:33,281 [WARN ] W-9000-model_1.0-stderr MODEL_LOG -  79%|███████▉  | 134415360/170498071 [00:01<00:00, 114209010.09it/s]\n",
      "\u001b[36manftpb2son-algo-1-boz5w |\u001b[0m 2022-06-18T12:37:33,381 [WARN ] W-9000-model_1.0-stderr MODEL_LOG -  86%|████████▌ | 146064384/170498071 [00:01<00:00, 114894282.80it/s]\n",
      "\u001b[36manftpb2son-algo-1-boz5w |\u001b[0m 2022-06-18T12:37:33,481 [WARN ] W-9000-model_1.0-stderr MODEL_LOG -  93%|█████████▎| 157762560/170498071 [00:01<00:00, 115517477.48it/s]\n",
      "\u001b[36manftpb2son-algo-1-boz5w |\u001b[0m 2022-06-18T12:37:33,491 [WARN ] W-9000-model_1.0-stderr MODEL_LOG -  99%|█████████▉| 169482240/170498071 [00:01<00:00, 116017995.28it/s]\n",
      "\u001b[36manftpb2son-algo-1-boz5w |\u001b[0m 2022-06-18T12:37:35,558 [INFO ] W-9000-model_1.0-stdout MODEL_LOG - Extracting ./data/cifar-10-python.tar.gz to ./data\n",
      "\u001b[36manftpb2son-algo-1-boz5w |\u001b[0m 2022-06-18T12:37:35,558 [WARN ] W-9000-model_1.0-stderr MODEL_LOG - 170499072it [00:01, 99679164.39it/s]                                \n",
      "\u001b[36manftpb2son-algo-1-boz5w |\u001b[0m 2022-06-18T12:37:35,717 [INFO ] W-9000-model_1.0-stdout MODEL_LOG - accept: application/json\n",
      "\u001b[36manftpb2son-algo-1-boz5w |\u001b[0m 2022-06-18T12:37:35,717 [INFO ] W-9000-model_1.0-stdout MODEL_METRICS - PredictionTime.Milliseconds:4181.31|#ModelName:model,Level:Model|#hostname:408695d3fc49,requestID:b05982d1-70ec-4559-bca5-a58c143dec94,timestamp:1655555855\n",
      "\u001b[36manftpb2son-algo-1-boz5w |\u001b[0m 2022-06-18T12:37:35,718 [INFO ] W-9000-model_1.0 org.pytorch.serve.wlm.WorkerThread - Backend response time: 4183\n",
      "\u001b[36manftpb2son-algo-1-boz5w |\u001b[0m 2022-06-18T12:37:35,719 [INFO ] W-9000-model_1.0 ACCESS_LOG - /172.18.0.1:53586 \"POST /invocations HTTP/1.1\" 200 4190\n",
      "\u001b[36manftpb2son-algo-1-boz5w |\u001b[0m 2022-06-18T12:37:35,720 [INFO ] W-9000-model_1.0 TS_METRICS - Requests2XX.Count:1|#Level:Host|#hostname:408695d3fc49,timestamp:1655555842\n",
      "\u001b[36manftpb2son-algo-1-boz5w |\u001b[0m 2022-06-18T12:37:35,720 [INFO ] W-9000-model_1.0 TS_METRICS - QueueTime.ms:0|#Level:Host|#hostname:408695d3fc49,timestamp:1655555855\n",
      "\u001b[36manftpb2son-algo-1-boz5w |\u001b[0m 2022-06-18T12:37:35,721 [INFO ] W-9000-model_1.0 TS_METRICS - WorkerThreadTime.ms:4|#Level:Host|#hostname:408695d3fc49,timestamp:1655555855\n",
      "Predicted:   cat ship ship ship\n"
     ]
    }
   ],
   "source": [
    "outputs = predictor.predict(tmp)\n",
    "\n",
    "_, predicted = torch.max(torch.from_numpy(np.array(outputs)), 1)\n",
    "\n",
    "print(\"Predicted: \", \" \".join(\"%4s\" % classes[predicted[j]] for j in range(4)))"
   ]
  },
  {
   "cell_type": "markdown",
   "metadata": {},
   "source": [
    "# Clean-up\n",
    "\n",
    "Deleting the local endpoint when you're finished is important, since you can only run one local endpoint at a time."
   ]
  },
  {
   "cell_type": "code",
   "execution_count": 205,
   "metadata": {},
   "outputs": [
    {
     "name": "stdout",
     "output_type": "stream",
     "text": [
      "Gracefully stopping... (press Ctrl+C again to force)\n"
     ]
    }
   ],
   "source": [
    "predictor.delete_endpoint()"
   ]
  },
  {
   "cell_type": "markdown",
   "metadata": {},
   "source": [
    "## Appendix "
   ]
  },
  {
   "cell_type": "markdown",
   "metadata": {},
   "source": [
    "## Prediction on the local machine"
   ]
  },
  {
   "cell_type": "code",
   "execution_count": 68,
   "metadata": {},
   "outputs": [],
   "source": [
    "import os\n",
    "\n",
    "import torch\n",
    "import torch.distributed as dist\n",
    "import torch.nn as nn\n",
    "import torch.nn.functional as F\n",
    "import torch.nn.parallel\n",
    "import torch.optim\n",
    "import torch.utils.data\n",
    "import torch.utils.data.distributed\n",
    "import torchvision\n",
    "import torchvision.models\n",
    "import torchvision.transforms as transforms"
   ]
  },
  {
   "cell_type": "code",
   "execution_count": 69,
   "metadata": {},
   "outputs": [],
   "source": [
    "class Net(nn.Module):\n",
    "    def __init__(self):\n",
    "        super(Net, self).__init__()\n",
    "        self.conv1 = nn.Conv2d(3, 6, 5)\n",
    "        self.pool = nn.MaxPool2d(2, 2)\n",
    "        self.conv2 = nn.Conv2d(6, 16, 5)\n",
    "        self.fc1 = nn.Linear(16 * 5 * 5, 120)\n",
    "        self.fc2 = nn.Linear(120, 84)\n",
    "        self.fc3 = nn.Linear(84, 10)\n",
    "\n",
    "    def forward(self, x):\n",
    "        x = self.pool(F.relu(self.conv1(x)))\n",
    "        x = self.pool(F.relu(self.conv2(x)))\n",
    "        x = x.view(-1, 16 * 5 * 5)\n",
    "        x = F.relu(self.fc1(x))\n",
    "        x = F.relu(self.fc2(x))\n",
    "        x = self.fc3(x)\n",
    "        return x"
   ]
  },
  {
   "cell_type": "code",
   "execution_count": 70,
   "metadata": {},
   "outputs": [
    {
     "data": {
      "text/plain": [
       "Net(\n",
       "  (conv1): Conv2d(3, 6, kernel_size=(5, 5), stride=(1, 1))\n",
       "  (pool): MaxPool2d(kernel_size=2, stride=2, padding=0, dilation=1, ceil_mode=False)\n",
       "  (conv2): Conv2d(6, 16, kernel_size=(5, 5), stride=(1, 1))\n",
       "  (fc1): Linear(in_features=400, out_features=120, bias=True)\n",
       "  (fc2): Linear(in_features=120, out_features=84, bias=True)\n",
       "  (fc3): Linear(in_features=84, out_features=10, bias=True)\n",
       ")"
      ]
     },
     "execution_count": 70,
     "metadata": {},
     "output_type": "execute_result"
    }
   ],
   "source": [
    "device = \"cuda\" if torch.cuda.is_available() else \"cpu\"\n",
    "model = Net()\n",
    "model_dir = 'model'\n",
    "if torch.cuda.device_count() > 1:\n",
    "    logger.info(\"Gpu count: {}\".format(torch.cuda.device_count()))\n",
    "    model = nn.DataParallel(model)\n",
    "\n",
    "with open(os.path.join(model_dir, \"model.pth\"), \"rb\") as f:\n",
    "    model.load_state_dict(torch.load(f))\n",
    "model.to(device)"
   ]
  },
  {
   "cell_type": "code",
   "execution_count": 71,
   "metadata": {
    "scrolled": true
   },
   "outputs": [
    {
     "data": {
      "text/plain": [
       "tensor([[[[-0.6235, -0.4902, -0.3412,  ..., -0.5216, -0.6157, -0.6471],\n",
       "          [-0.8902, -0.8745, -0.8510,  ..., -0.7647, -0.8431, -0.8196],\n",
       "          [-0.7647, -0.7176, -0.7490,  ..., -0.7725, -0.8275, -0.8196],\n",
       "          ...,\n",
       "          [ 0.0353,  0.0275,  0.0275,  ...,  0.2471,  0.1765,  0.1529],\n",
       "          [ 0.0118,  0.0275,  0.0118,  ...,  0.2627,  0.3020,  0.3255],\n",
       "          [-0.0039,  0.0588,  0.0667,  ...,  0.1294,  0.0980,  0.1373]],\n",
       "\n",
       "         [[-0.6157, -0.4667, -0.3020,  ..., -0.5059, -0.6078, -0.6471],\n",
       "          [-0.8980, -0.8824, -0.8510,  ..., -0.7490, -0.8275, -0.8196],\n",
       "          [-0.6941, -0.6941, -0.7412,  ..., -0.7569, -0.8118, -0.8118],\n",
       "          ...,\n",
       "          [ 0.1765,  0.1686,  0.1686,  ...,  0.3098,  0.2392,  0.1922],\n",
       "          [ 0.1529,  0.1608,  0.1451,  ...,  0.3098,  0.3569,  0.3490],\n",
       "          [ 0.1451,  0.1922,  0.1843,  ...,  0.1765,  0.1451,  0.1686]],\n",
       "\n",
       "         [[-0.6235, -0.4745, -0.3176,  ..., -0.5373, -0.6392, -0.6706],\n",
       "          [-0.8980, -0.8980, -0.8824,  ..., -0.7804, -0.8667, -0.8431],\n",
       "          [-0.8118, -0.7882, -0.8353,  ..., -0.7882, -0.8510, -0.8510],\n",
       "          ...,\n",
       "          [-0.2392, -0.2392, -0.2235,  ...,  0.3098,  0.2784,  0.2314],\n",
       "          [-0.2627, -0.2314, -0.2471,  ...,  0.1686,  0.2784,  0.3569],\n",
       "          [-0.2706, -0.1922, -0.1843,  ..., -0.1216, -0.0980, -0.0118]]],\n",
       "\n",
       "\n",
       "        [[[ 0.9373,  0.9059,  0.9059,  ...,  0.9059,  0.8980,  0.9373],\n",
       "          [ 0.9373,  0.9059,  0.9059,  ...,  0.8902,  0.8902,  0.9294],\n",
       "          [ 0.9451,  0.9137,  0.9137,  ...,  0.9059,  0.8980,  0.9294],\n",
       "          ...,\n",
       "          [ 0.9294,  0.8902,  0.8980,  ...,  0.8902,  0.8902,  0.9373],\n",
       "          [ 0.9216,  0.8902,  0.8902,  ...,  0.8902,  0.8902,  0.9294],\n",
       "          [ 0.9216,  0.8980,  0.8980,  ...,  0.8824,  0.8824,  0.9294]],\n",
       "\n",
       "         [[ 0.9765,  0.9451,  0.9451,  ...,  0.9451,  0.9373,  0.9765],\n",
       "          [ 0.9765,  0.9451,  0.9451,  ...,  0.9294,  0.9294,  0.9686],\n",
       "          [ 0.9843,  0.9529,  0.9529,  ...,  0.9451,  0.9373,  0.9686],\n",
       "          ...,\n",
       "          [ 0.9529,  0.9137,  0.9216,  ...,  0.9294,  0.9216,  0.9608],\n",
       "          [ 0.9451,  0.9137,  0.9137,  ...,  0.9294,  0.9216,  0.9529],\n",
       "          [ 0.9451,  0.9216,  0.9216,  ...,  0.9294,  0.9137,  0.9529]],\n",
       "\n",
       "         [[ 0.9216,  0.8902,  0.8902,  ...,  0.8902,  0.8824,  0.9216],\n",
       "          [ 0.9216,  0.8902,  0.8902,  ...,  0.8745,  0.8745,  0.9137],\n",
       "          [ 0.9294,  0.8980,  0.8980,  ...,  0.8902,  0.8824,  0.9137],\n",
       "          ...,\n",
       "          [ 0.8980,  0.8588,  0.8667,  ...,  0.8745,  0.8667,  0.9059],\n",
       "          [ 0.8902,  0.8588,  0.8588,  ...,  0.8745,  0.8667,  0.8980],\n",
       "          [ 0.8902,  0.8667,  0.8667,  ...,  0.8745,  0.8588,  0.8980]]],\n",
       "\n",
       "\n",
       "        [[[-0.7255, -0.7098, -0.6941,  ..., -0.6784, -0.6863, -0.6941],\n",
       "          [-0.6000, -0.5373, -0.5294,  ..., -0.7020, -0.7020, -0.7176],\n",
       "          [-0.5216, -0.5137, -0.4745,  ..., -0.7333, -0.7255, -0.7333],\n",
       "          ...,\n",
       "          [-0.6471, -0.6314, -0.7020,  ..., -0.8353, -0.7647, -0.6863],\n",
       "          [-0.6549, -0.6549, -0.6784,  ..., -0.8118, -0.7412, -0.7176],\n",
       "          [-0.6392, -0.5765, -0.5294,  ..., -0.7804, -0.6392, -0.7020]],\n",
       "\n",
       "         [[-0.5216, -0.4824, -0.4510,  ..., -0.4745, -0.4980, -0.5294],\n",
       "          [-0.4118, -0.3255, -0.3020,  ..., -0.4824, -0.4980, -0.5294],\n",
       "          [-0.3333, -0.3020, -0.2549,  ..., -0.5059, -0.5137, -0.5373],\n",
       "          ...,\n",
       "          [-0.5137, -0.5059, -0.5843,  ..., -0.6627, -0.6549, -0.6000],\n",
       "          [-0.5216, -0.5216, -0.5294,  ..., -0.6078, -0.6078, -0.5765],\n",
       "          [-0.4824, -0.3961, -0.3176,  ..., -0.6157, -0.5765, -0.5686]],\n",
       "\n",
       "         [[-0.3020, -0.2706, -0.2392,  ..., -0.2706, -0.2941, -0.3412],\n",
       "          [-0.1059, -0.0353, -0.0196,  ..., -0.2706, -0.3020, -0.3412],\n",
       "          [ 0.0039,  0.0275,  0.0667,  ..., -0.2941, -0.3255, -0.3569],\n",
       "          ...,\n",
       "          [-0.3333, -0.3020, -0.3725,  ..., -0.4667, -0.4902, -0.4510],\n",
       "          [-0.3333, -0.3020, -0.2941,  ..., -0.4039, -0.4431, -0.4275],\n",
       "          [-0.2784, -0.1294, -0.0510,  ..., -0.4588, -0.4745, -0.4902]]],\n",
       "\n",
       "\n",
       "        [[[-0.3804, -0.3882, -0.3725,  ..., -0.4118, -0.1294,  0.0431],\n",
       "          [-0.3725, -0.3647, -0.3961,  ...,  0.3569,  0.6235,  0.6471],\n",
       "          [-0.3490, -0.3176, -0.4510,  ...,  0.6157,  0.4588,  0.3725],\n",
       "          ...,\n",
       "          [ 0.3020,  0.3020,  0.2863,  ...,  0.2549,  0.2392,  0.1922],\n",
       "          [ 0.2157,  0.2941,  0.2863,  ...,  0.1686,  0.1686,  0.1608],\n",
       "          [-0.1059,  0.0588,  0.1765,  ...,  0.1529,  0.1137,  0.0824]],\n",
       "\n",
       "         [[-0.3020, -0.4039, -0.3569,  ..., -0.4039, -0.0980,  0.0902],\n",
       "          [-0.3333, -0.3882, -0.3725,  ...,  0.3412,  0.6157,  0.6471],\n",
       "          [-0.3333, -0.3490, -0.4196,  ...,  0.6000,  0.4353,  0.3569],\n",
       "          ...,\n",
       "          [ 0.3020,  0.3098,  0.2941,  ...,  0.2314,  0.2157,  0.1686],\n",
       "          [ 0.2157,  0.2941,  0.2863,  ...,  0.1529,  0.1608,  0.1451],\n",
       "          [-0.1137,  0.0510,  0.1765,  ...,  0.1373,  0.0980,  0.0667]],\n",
       "\n",
       "         [[-0.2157, -0.3882, -0.3255,  ..., -0.3804, -0.0745,  0.1373],\n",
       "          [-0.2941, -0.4039, -0.3569,  ...,  0.2706,  0.5373,  0.5765],\n",
       "          [-0.3569, -0.3961, -0.4196,  ...,  0.4588,  0.2941,  0.2000],\n",
       "          ...,\n",
       "          [ 0.2078,  0.2078,  0.1843,  ...,  0.1294,  0.1216,  0.0667],\n",
       "          [ 0.1451,  0.2157,  0.2000,  ...,  0.0510,  0.0588,  0.0431],\n",
       "          [-0.1529, -0.0039,  0.1059,  ...,  0.0353, -0.0039, -0.0353]]]],\n",
       "       device='cuda:0')"
      ]
     },
     "execution_count": 71,
     "metadata": {},
     "output_type": "execute_result"
    }
   ],
   "source": [
    "tensor = torch.FloatTensor(torch.from_numpy(images.numpy()))\n",
    "tensor.to(device)"
   ]
  },
  {
   "cell_type": "code",
   "execution_count": 72,
   "metadata": {},
   "outputs": [],
   "source": [
    "input_data = tensor.to(device)\n",
    "with torch.no_grad():\n",
    "    with torch.jit.optimized_execution(True):\n",
    "        output = model.forward(input_data)"
   ]
  },
  {
   "cell_type": "code",
   "execution_count": 74,
   "metadata": {},
   "outputs": [
    {
     "data": {
      "text/plain": [
       "[[0.2368011772632599,\n",
       "  -1.4373328685760498,\n",
       "  0.6225817799568176,\n",
       "  0.18415576219558716,\n",
       "  1.4022583961486816,\n",
       "  0.5464974641799927,\n",
       "  -2.4792137145996094,\n",
       "  4.582212924957275,\n",
       "  -2.5382938385009766,\n",
       "  0.8987858891487122],\n",
       " [6.445296764373779,\n",
       "  -2.9003100395202637,\n",
       "  7.4543633460998535,\n",
       "  0.5750448703765869,\n",
       "  0.22989746928215027,\n",
       "  -0.07983846962451935,\n",
       "  -2.001847982406616,\n",
       "  -2.268155097961426,\n",
       "  -2.2423126697540283,\n",
       "  -3.8881969451904297],\n",
       " [4.2440643310546875,\n",
       "  -1.8359901905059814,\n",
       "  2.927513599395752,\n",
       "  -0.7629748582839966,\n",
       "  1.3571178913116455,\n",
       "  -1.2222861051559448,\n",
       "  -0.8545094728469849,\n",
       "  -2.7550811767578125,\n",
       "  1.9177950620651245,\n",
       "  -1.558739423751831],\n",
       " [-1.041499376296997,\n",
       "  5.539721488952637,\n",
       "  -2.36578631401062,\n",
       "  -0.8541748523712158,\n",
       "  -3.0113518238067627,\n",
       "  -1.201171875,\n",
       "  1.0714792013168335,\n",
       "  -1.9689130783081055,\n",
       "  -3.3783254623413086,\n",
       "  8.537617683410645]]"
      ]
     },
     "execution_count": 74,
     "metadata": {},
     "output_type": "execute_result"
    }
   ],
   "source": [
    "output.detach().cpu().numpy().tolist()"
   ]
  },
  {
   "cell_type": "markdown",
   "metadata": {},
   "source": [
    "## prepare a sample json file (optional)"
   ]
  },
  {
   "cell_type": "code",
   "execution_count": 112,
   "metadata": {},
   "outputs": [],
   "source": [
    "import json\n",
    "dictionary ={\n",
    "    \"data_source\" : f\"s3://{bucket}/sagemaker/DEMO-pytorch-cnn-cifar10/data/example_file.json\",\n",
    "}\n",
    "  \n",
    "# Serializing json \n",
    "json_object = json.dumps(dictionary, indent = 4)\n",
    "\n",
    "file_name = \"example_file.json\"\n",
    "# Writing to sample.json\n",
    "with open(file_name, \"w\") as outfile:\n",
    "    outfile.write(json_object)"
   ]
  },
  {
   "cell_type": "code",
   "execution_count": 113,
   "metadata": {},
   "outputs": [],
   "source": [
    "import boto3\n",
    "client = boto3.client(\"s3\")"
   ]
  },
  {
   "cell_type": "code",
   "execution_count": 114,
   "metadata": {},
   "outputs": [],
   "source": [
    "client.upload_file(file_name, bucket, os.path.join(prefix, \"data\", file_name))"
   ]
  },
  {
   "cell_type": "code",
   "execution_count": null,
   "metadata": {},
   "outputs": [],
   "source": []
  }
 ],
 "metadata": {
  "kernelspec": {
   "display_name": "conda_pytorch_p38",
   "language": "python",
   "name": "conda_pytorch_p38"
  },
  "language_info": {
   "codemirror_mode": {
    "name": "ipython",
    "version": 3
   },
   "file_extension": ".py",
   "mimetype": "text/x-python",
   "name": "python",
   "nbconvert_exporter": "python",
   "pygments_lexer": "ipython3",
   "version": "3.8.12"
  },
  "notice": "Copyright 2018 Amazon.com, Inc. or its affiliates. All Rights Reserved.  Licensed under the Apache License, Version 2.0 (the \"License\"). You may not use this file except in compliance with the License. A copy of the License is located at http://aws.amazon.com/apache2.0/ or in the \"license\" file accompanying this file. This file is distributed on an \"AS IS\" BASIS, WITHOUT WARRANTIES OR CONDITIONS OF ANY KIND, either express or implied. See the License for the specific language governing permissions and limitations under the License."
 },
 "nbformat": 4,
 "nbformat_minor": 4
}
